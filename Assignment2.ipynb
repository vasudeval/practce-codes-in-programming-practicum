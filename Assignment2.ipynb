{
 "cells": [
  {
   "cell_type": "code",
   "execution_count": 3,
   "metadata": {},
   "outputs": [
    {
     "name": "stdout",
     "output_type": "stream",
     "text": [
      "enter number n\n",
      "3\n",
      "The list of words longer than n is  ['pqrs', 'lmnr']\n"
     ]
    }
   ],
   "source": [
    "#1 Program to find list of words longer than given n\n",
    "list_1=[\"abc\",\"pqrs\",\"xyz\",\"lmnr\"]\n",
    "print(\"enter number n\")\n",
    "n_1=int(input())\n",
    "for i in list_1:\n",
    "    if len(i)<=n_1:                               # checks if length of string is less than n and removes it\n",
    "        list_1.remove(i)\n",
    "print(\"The list of words longer than n is \",list_1)"
   ]
  },
  {
   "cell_type": "code",
   "execution_count": 10,
   "metadata": {},
   "outputs": [
    {
     "name": "stdout",
     "output_type": "stream",
     "text": [
      "The list after removing even numbers is [5, 7, 9, 11]\n"
     ]
    }
   ],
   "source": [
    "#2 Program to find even numbers and remove from the list\n",
    "list_2=[5,4,6,7,8,9,10,11]\n",
    "listo_2=[]\n",
    "for i in list_2:                        # for odd numbers , it appends the number to new list\n",
    "    if i%2!=0:\n",
    "        listo_2.append(i)\n",
    "print(\"The list after removing even numbers is\",listo_2)"
   ]
  },
  {
   "cell_type": "code",
   "execution_count": 15,
   "metadata": {},
   "outputs": [
    {
     "name": "stdout",
     "output_type": "stream",
     "text": [
      "Enter a number n\n",
      "5\n",
      "The new list is ['p1', 'q1', 'p2', 'q2', 'p3', 'q3', 'p4', 'q4', 'p5', 'q5']\n"
     ]
    }
   ],
   "source": [
    "#3 program 3\n",
    "list_3=['p','q']\n",
    "print(\"Enter a number n\")\n",
    "n_3=int(input())\n",
    "listn_3=[]\n",
    "count_3=1\n",
    "for i in range(1,n_3+1):          # Generating numbers to append\n",
    "    for j in list_3:              #adding it to the strings\n",
    "        listn_3.append(j+str(i))\n",
    "print(\"The new list is\",listn_3)\n",
    "        \n",
    "    \n",
    "    \n",
    "    "
   ]
  },
  {
   "cell_type": "code",
   "execution_count": 18,
   "metadata": {},
   "outputs": [
    {
     "name": "stdout",
     "output_type": "stream",
     "text": [
      "The swapped list is  [1, 0, 3, 2, 5, 4]\n"
     ]
    }
   ],
   "source": [
    "#4  program to change nth value with (n+1)th value in list\n",
    "list_4=[0,1,2,3,4,5]\n",
    "for i in range(0,len(list_4),2):\n",
    "    temp_4=list_4[i]                    # swap operation \n",
    "    list_4[i]=list_4[i+1]\n",
    "    list_4[i+1]=temp_4\n",
    "print(\"The swapped list is \",list_4)"
   ]
  },
  {
   "cell_type": "code",
   "execution_count": 19,
   "metadata": {},
   "outputs": [
    {
     "name": "stdout",
     "output_type": "stream",
     "text": [
      "The left circular shifted list is [1, 2, 3, 4, 5, 0]\n"
     ]
    }
   ],
   "source": [
    "#5 Program to do left circular shift by one element\n",
    "list_5=[0,1,2,3,4,5]\n",
    "temp_5=list_5.pop(0)                             #removing first element and adding at the end\n",
    "list_5.append(temp_5)\n",
    "print(\"The left circular shifted list is\",list_5)\n"
   ]
  },
  {
   "cell_type": "code",
   "execution_count": 25,
   "metadata": {},
   "outputs": [
    {
     "name": "stdout",
     "output_type": "stream",
     "text": [
      "Enter a name\n",
      "cat\n",
      "Do you want to continue Then  type 'Y' Otherwise 'N'\n",
      "Y\n",
      "Enter a name\n",
      "cat\n",
      "Do you want to continue Then  type 'Y' Otherwise 'N'\n",
      "Y\n",
      "Enter a name\n",
      "dog\n",
      "Do you want to continue Then  type 'Y' Otherwise 'N'\n",
      "N\n",
      "The Dictionary is  {'cat': 2, 'dog': 1}\n"
     ]
    }
   ],
   "source": [
    "#6  Program to make a dictionary\n",
    "dictionary_6={}\n",
    "list_6=[]\n",
    "decision_6=\"Y\"\n",
    "while decision_6==\"Y\":                                  # logic to get words\n",
    "    print(\"Enter a name\")\n",
    "    list_6.append(input())\n",
    "    print(\"Do you want to continue Then  type 'Y' Otherwise 'N'\")\n",
    "    decision_6=input()\n",
    "for i in list_6:                                        # logic to get count and remove that element\n",
    "    dictionary_6[i]=list_6.count(i)\n",
    "    list_6.remove(i)\n",
    "print(\"The Dictionary is \",dictionary_6)\n",
    "    \n",
    "    "
   ]
  },
  {
   "cell_type": "code",
   "execution_count": 29,
   "metadata": {},
   "outputs": [
    {
     "name": "stdout",
     "output_type": "stream",
     "text": [
      "The max value is 10 and min value is 1\n"
     ]
    }
   ],
   "source": [
    "#7 Program to get maximum and minimum value in a dictionary\n",
    "dictionary_7={'A':2,'B':1,'C':3,'D':10}\n",
    "list_7=[]\n",
    "for values in dictionary_7.values():\n",
    "    list_7.append(values)\n",
    "print(\"The max value is {} and min value is {}\".format(max(list_7),min(list_7)))"
   ]
  },
  {
   "cell_type": "code",
   "execution_count": 37,
   "metadata": {},
   "outputs": [
    {
     "name": "stdout",
     "output_type": "stream",
     "text": [
      "d\n",
      "The Required Dictionary is {'a': 400, 'b': 400, 'c': 300, 'd': 400}\n"
     ]
    }
   ],
   "source": [
    "#8 Program to add values of common keys in two dictionaries\n",
    "dict1_8={'a':100,'b':200,'c':300}\n",
    "dict2_8={'a':300,'b':200,'d':400}\n",
    "dicto_8={}\n",
    "list_8=[]\n",
    "for key2 in dict2_8.keys():\n",
    "    list_8.append(key2)   \n",
    "for key1,val1 in dict1_8.items():                  # Adding values of similar keys \n",
    "    if key1 in list_8:\n",
    "        dicto_8[key1]=dict1_8[key1]+dict2_8[key1]\n",
    "    else:\n",
    "        dicto_8[key1]=dict1_8[key1]                # Adding values of dissimalar keys in dictionary 1\n",
    "listo_8=list(dicto_8.keys())\n",
    "for key3,val3 in dict2_8.items():                  # Adding values of dissimalar keys in dictionary 2\n",
    "    if key3 not in listo_8:\n",
    "        print(key3)\n",
    "        dicto_8[key3]=dict2_8[key3]\n",
    "        \n",
    "print(\"The Required Dictionary is\",dicto_8)"
   ]
  },
  {
   "cell_type": "code",
   "execution_count": 39,
   "metadata": {},
   "outputs": [
    {
     "name": "stdout",
     "output_type": "stream",
     "text": [
      "Enter number n\n",
      "10\n",
      "The Extended list with odd numbers is [1, 3, 5, 7, 9, 1, 9, 25, 49, 81]\n"
     ]
    }
   ],
   "source": [
    "#9 Program \n",
    "print(\"Enter number n\")\n",
    "n_9=int(input())\n",
    "list_9=list(range(1,n_9+1))                      # list ofnatural numbers\n",
    "squarelist_9=[]\n",
    "requiredlist_9=[]\n",
    "for i in list_9:\n",
    "    squarelist_9.append(i**2)\n",
    "list_9.extend(squarelist_9)                        # Merging two lists\n",
    "for j in list_9:\n",
    "    if j%2!=0:                                     # Checking for odd number and appending it\n",
    "        requiredlist_9.append(j)\n",
    "print(\"The Extended list with odd numbers is\",requiredlist_9)"
   ]
  },
  {
   "cell_type": "code",
   "execution_count": 41,
   "metadata": {},
   "outputs": [
    {
     "name": "stdout",
     "output_type": "stream",
     "text": [
      "LCM of the list of numbers is 48\n"
     ]
    }
   ],
   "source": [
    "#10 Program to find LCM\n",
    "\"\"\" Initializing count and incrementing it . The LCM is the least number \n",
    "which is divisible by all the numbers in the List\"\"\"\n",
    "\n",
    "list_10=[12,16,4]\n",
    "count_10=1\n",
    "decision_10=\"T\"                                          \n",
    "while decision_10==\"T\":\n",
    "    listc_10=[]\n",
    "    for i in list_10:\n",
    "        if count_10%i==0:\n",
    "            listc_10.append(\"A\")\n",
    "        else:\n",
    "            listc_10.append(\"B\")\n",
    "    if \"B\" in listc_10:\n",
    "        count_10+=1\n",
    "    else:\n",
    "        decision_10=\"F\"\n",
    "print(\"LCM of the list of numbers is\",count_10)\n",
    "        \n",
    "        "
   ]
  }
 ],
 "metadata": {
  "kernelspec": {
   "display_name": "Python 3",
   "language": "python",
   "name": "python3"
  },
  "language_info": {
   "codemirror_mode": {
    "name": "ipython",
    "version": 3
   },
   "file_extension": ".py",
   "mimetype": "text/x-python",
   "name": "python",
   "nbconvert_exporter": "python",
   "pygments_lexer": "ipython3",
   "version": "3.7.0"
  }
 },
 "nbformat": 4,
 "nbformat_minor": 2
}

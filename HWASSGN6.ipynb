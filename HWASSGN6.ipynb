{
 "cells": [
  {
   "cell_type": "code",
   "execution_count": 11,
   "metadata": {},
   "outputs": [
    {
     "name": "stdout",
     "output_type": "stream",
     "text": [
      " easy is Python\n"
     ]
    }
   ],
   "source": [
    "#1 class to reverse a strings\n",
    "class reverse(object):\n",
    "    def __init__(self,data):\n",
    "        self.data=data\n",
    "    def dat(self):\n",
    "        data=self.data\n",
    "        a=[]\n",
    "        b=list(data.split(\" \"))\n",
    "        for i in range(len(b)):\n",
    "            a.append(b[len(b)-i-1])\n",
    "        s=\"\"\n",
    "        for i in a:\n",
    "            s=s+\" \"+i\n",
    "        print(s)\n",
    "data=\"Python is easy\"\n",
    "strrev=reverse(data)\n",
    "strrev.dat()"
   ]
  },
  {
   "cell_type": "code",
   "execution_count": 63,
   "metadata": {},
   "outputs": [
    {
     "name": "stdout",
     "output_type": "stream",
     "text": [
      "[-10, 2, 8]\n",
      "[-10, 8, 2]\n",
      "[-7, -3, 10]\n",
      "[-7, 10, -3]\n",
      "[-3, -7, 10]\n",
      "[-3, 10, -7]\n",
      "[2, -10, 8]\n",
      "[2, 8, -10]\n",
      "[8, -10, 2]\n",
      "[8, 2, -10]\n",
      "[10, -7, -3]\n",
      "[10, -3, -7]\n"
     ]
    }
   ],
   "source": [
    "#2 \n",
    "class num(object):\n",
    "    def __init__(self,lisnum):\n",
    "        self.lisnum=lisnum\n",
    "        \n",
    "    def sumten(self):\n",
    "        l=self.lisnum\n",
    "        lc=l.copy()\n",
    "        lc1=l.copy()\n",
    "        li=[]\n",
    "        for i in range(len(l)):\n",
    "            #print(l[i])\n",
    "            lc.remove(l[i])\n",
    "            lc1.remove(l[i])\n",
    "            for j in range(len(lc)):\n",
    "                #print(lc[j])\n",
    "                \n",
    "                lc1.remove(lc[j])\n",
    "                for k in range(len(lc1)):\n",
    "                    \n",
    "                    if l[i]+lc[j]+lc1[k]==0:\n",
    "                        li=list((l[i],lc[j],lc1[k]))\n",
    "                        \n",
    "                        \n",
    "                        print(li)\n",
    "                        li.clear()\n",
    "                    else:\n",
    "                        pass\n",
    "                \n",
    "                lc1.insert(j,lc[j])\n",
    "                \n",
    "            lc1.insert(i,l[i])\n",
    "            lc.insert(i,l[i])\n",
    "             \n",
    "lisnu=[-25,-10,-7,-3,2,4,8,10]\n",
    "lisnumb=num(lisnu)\n",
    "lisnumb.sumten()"
   ]
  },
  {
   "cell_type": "code",
   "execution_count": 79,
   "metadata": {},
   "outputs": [
    {
     "name": "stdout",
     "output_type": "stream",
     "text": [
      "circles don't intersect\n"
     ]
    }
   ],
   "source": [
    "#3\n",
    "import math as m\n",
    "class circlesint(object):\n",
    "    def __init__(self,centre1,centre2,radius1,radius2):\n",
    "        self.centre1=centre1\n",
    "        self.radius1=radius1\n",
    "        self.centre2=centre2\n",
    "        self.radius2=radius2\n",
    "    def distcentres(self):\n",
    "        c1=self.centre1\n",
    "        c2=self.centre2\n",
    "        r1=self.radius1\n",
    "        r2=self.radius2\n",
    "        \n",
    "        d1=m.sqrt((c1[0]-c2[0])**2+(c1[1]-c2[1])**2)\n",
    "        d2=r1+r2\n",
    "        if d2<d1:\n",
    "            print(\"circles don't intersect\")\n",
    "        else:\n",
    "            print(\"circles intersect\")\n",
    "        \n",
    "        \n",
    "cir=circlesint((2,2),(5,2),1,1)\n",
    "cir.distcentres()\n"
   ]
  },
  {
   "cell_type": "code",
   "execution_count": 87,
   "metadata": {},
   "outputs": [
    {
     "name": "stdout",
     "output_type": "stream",
     "text": [
      "Account balance is : 1000\n",
      "needed minimum balance\n",
      "Amount 10000000 has been deposited\n",
      "Account balance is : 10001000\n"
     ]
    }
   ],
   "source": [
    "#4\n",
    "class BankAccount(object):\n",
    "    def __init__(self,name,account_number,minbalance,bal):\n",
    "        self.name=name\n",
    "        self.account_number=account_number\n",
    "        self.minbalance=minbalance\n",
    "        self.bal=bal\n",
    "    def createbankaccount(self):\n",
    "        print(\"{} your bank account is created with account number {}\".format(self.name,self.account_number))\n",
    "    def depositmoney(self,money):\n",
    "        m=money\n",
    "        print(\"Amount {} has been deposited\".format(m))\n",
    "        self.bal+=m\n",
    "    def withdrawl(self,money):\n",
    "        m=money\n",
    "        if self.minbalance>(self.bal-m):\n",
    "            print(\"needed minimum balance\")\n",
    "        else:\n",
    "            self.bal-=m\n",
    "            print(\"Amount {} has been withdrawn\".format(m))\n",
    "    def Checkbalance(self):\n",
    "        print(\"Account balance is :\",self.bal)\n",
    "me=BankAccount(\"Deva\",123456,500,1000)\n",
    "me.Checkbalance()        \n",
    "me.withdrawl(600)\n",
    "me.depositmoney(10000000)\n",
    "me.Checkbalance()"
   ]
  },
  {
   "cell_type": "code",
   "execution_count": 105,
   "metadata": {},
   "outputs": [
    {
     "name": "stdout",
     "output_type": "stream",
     "text": [
      "[(2, 1), (2, 0)]\n",
      "[(0, 1), (0, 0)]\n",
      "{2: 1, 1: 2, 0: 1}\n"
     ]
    }
   ],
   "source": [
    "#5\n",
    "class polynomials(object):\n",
    "    def __init__(self,pol1,pol2):\n",
    "        self.pol1=pol1\n",
    "        self.pol2=pol2\n",
    "    \n",
    "    def addpol(self):\n",
    "        p1=self.pol1\n",
    "        p2=self.pol2\n",
    "        p3=[]\n",
    "        \n",
    "        for i in p1:\n",
    "            for j in p2:\n",
    "                if i[1]==j[1]:\n",
    "                    tup=(i[0]+j[0],i[1])\n",
    "                    p3.append(tup)\n",
    "        print(p3)\n",
    "    def subpol(self):\n",
    "        p1=self.pol1\n",
    "        p2=self.pol2\n",
    "        p3=[]\n",
    "        \n",
    "        for i in p1:\n",
    "            for j in p2:\n",
    "                if i[1]==j[1]:\n",
    "                    tup=(i[0]-j[0],i[1])\n",
    "                    p3.append(tup)\n",
    "        print(p3)\n",
    "    def multpol(self):\n",
    "        p1=self.pol1\n",
    "        p2=self.pol2\n",
    "        p3=[]\n",
    "        for i in p1:\n",
    "            for j in p2:\n",
    "                tup=(i[0]*j[0],i[1]+j[1])\n",
    "                p3.append(tup)\n",
    "        dic={}\n",
    "        for i in p3:\n",
    "            c=i[0]\n",
    "            if i[1] in dic.keys():\n",
    "                c1=dic[i[1]]+c\n",
    "                #dic.update(c1,i[1])\n",
    "                dic[i[1]]=c1\n",
    "            else:\n",
    "                dic[i[1]]=i[0]\n",
    "            \n",
    "        print(dic)\n",
    "        \n",
    "x1=[(1,1),(1,0)]            \n",
    "x2=[(1,1),(1,0)]        \n",
    "a=polynomials(x1,x2)                    \n",
    "a.addpol()                \n",
    "a.subpol() \n",
    "a.multpol()"
   ]
  },
  {
   "cell_type": "code",
   "execution_count": null,
   "metadata": {},
   "outputs": [],
   "source": []
  }
 ],
 "metadata": {
  "kernelspec": {
   "display_name": "Python 3",
   "language": "python",
   "name": "python3"
  },
  "language_info": {
   "codemirror_mode": {
    "name": "ipython",
    "version": 3
   },
   "file_extension": ".py",
   "mimetype": "text/x-python",
   "name": "python",
   "nbconvert_exporter": "python",
   "pygments_lexer": "ipython3",
   "version": "3.8.3"
  }
 },
 "nbformat": 4,
 "nbformat_minor": 4
}

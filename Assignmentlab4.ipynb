{
 "cells": [
  {
   "cell_type": "code",
   "execution_count": 1,
   "metadata": {},
   "outputs": [],
   "source": [
    "#1 taking two binary numbers and correcting unequal lengths\n",
    "def binarylengthcheck(a,b):\n",
    "    if len(a)>len(b):\n",
    "        for i in range(len(a)-len(b)):\n",
    "            b=\"0\"+b\n",
    "    elif len(a)<len(b):\n",
    "        for j in range(len(b)-len(a)):\n",
    "            a=\"0\"+a\n",
    "    else:\n",
    "        pass\n",
    "    return a,b"
   ]
  },
  {
   "cell_type": "code",
   "execution_count": 13,
   "metadata": {},
   "outputs": [],
   "source": [
    "#1a Program to find hamming distance\n",
    "\"\"\"print(\"Enter two binary numbers\")\n",
    "b1a_1,b2a_1=input().split()\"\"\"\n",
    "def Hammingdistance(b1a_1,b2a_1):\n",
    "    b1a_1,b2a_1=binarylengthcheck(b1a_1,b2a_1)\n",
    "    counta_1=0\n",
    "    for i in range(len(b1a_1)):\n",
    "        if b1a_1[i]!=b2a_1[i]:\n",
    "            counta_1+=1\n",
    "    print(\"The hamming distance between two binary numbers is \",counta_1)"
   ]
  },
  {
   "cell_type": "code",
   "execution_count": 14,
   "metadata": {},
   "outputs": [],
   "source": [
    "#1b program to find inner product\n",
    "\"\"\"print(\"Enter two binary numbers\")\n",
    "b1b_1,b2b_1=input().split()\"\"\"\n",
    "def Innerproduct(b1b_1,b2b_1):\n",
    "    b1b_1,b2b_1=binarylengthcheck(b1b_1,b2b_1)\n",
    "    countb_1=0\n",
    "    for i in range(len(b1b_1)):\n",
    "        if b1b_1[i]==b2b_1[i] and b1b_1[i]=='1':\n",
    "            countb_1+=1\n",
    "    print(\"The inner product is \",countb_1)\n",
    "        "
   ]
  },
  {
   "cell_type": "code",
   "execution_count": 15,
   "metadata": {},
   "outputs": [],
   "source": [
    "#1c program to find jaccard similarity\n",
    "\"\"\"print(\"Enter two nonzero binary numbers\")\n",
    "b1c_1,b2c_1=input().split()\"\"\"\n",
    "def Jaccard(b1c_1,b2c_1):\n",
    "    b1c_1,b2c_1=binarylengthcheck(b1c_1,b2c_1)\n",
    "    countc1_1=0\n",
    "    countc2_1=0\n",
    "    for i in range(len(b1c_1)):\n",
    "        if b1c_1[i]==b2c_1[i] and b1c_1[i]=='1':\n",
    "            countc1_1+=1\n",
    "        if b1c_1[i]=='1' or b2c_1[i]=='1':\n",
    "            countc2_1+=1\n",
    "    print(\"The Jaccard similarity is \",countc1_1/countc2_1)"
   ]
  },
  {
   "cell_type": "code",
   "execution_count": 16,
   "metadata": {},
   "outputs": [
    {
     "name": "stdout",
     "output_type": "stream",
     "text": [
      "Enter two Binary numbers\n",
      "0100110 0111000\n",
      "The hamming distance between two binary numbers is  4\n",
      "The inner product is  1\n",
      "The Jaccard similarity is  0.2\n"
     ]
    }
   ],
   "source": [
    "#1d \n",
    "print(\"Enter two Binary numbers\")\n",
    "a_1,b_1=input().split()\n",
    "Hammingdistance(a_1,b_1)\n",
    "Innerproduct(a_1,b_1)\n",
    "Jaccard(a_1,b_1)"
   ]
  },
  {
   "cell_type": "code",
   "execution_count": 17,
   "metadata": {},
   "outputs": [],
   "source": [
    "#2a Function for Euclidean distance\n",
    "def EuclideanDist(a,b):\n",
    "    import math as m\n",
    "    EDS=0\n",
    "    for i in range(len(a)):\n",
    "        EDS+=(a[i]-b[i])**2\n",
    "    return m.sqrt(EDS)\n",
    "    "
   ]
  },
  {
   "cell_type": "code",
   "execution_count": 18,
   "metadata": {},
   "outputs": [],
   "source": [
    "#2b Function for inner product\n",
    "def InnerProductv(a,b):\n",
    "    IP=0\n",
    "    for i in range(len(a)):\n",
    "        IP+=(a[i]*b[i])\n",
    "    return IP\n"
   ]
  },
  {
   "cell_type": "code",
   "execution_count": 22,
   "metadata": {},
   "outputs": [],
   "source": [
    "#2c Function for cosine similarity\n",
    "def CosineSimilarity(a,b):\n",
    "    import math as m\n",
    "    xsquare=0\n",
    "    ysquare=0\n",
    "    for i in range(len(a)):\n",
    "        xsquare+=(a[i]**2)\n",
    "        ysquare+=(b[i]**2)\n",
    "    return InnerProductv(a,b)/(m.sqrt(xsquare*ysquare))\n",
    "    "
   ]
  },
  {
   "cell_type": "code",
   "execution_count": 23,
   "metadata": {},
   "outputs": [
    {
     "name": "stdout",
     "output_type": "stream",
     "text": [
      "The Euclidean Distance is 17.11724276862369\n",
      "The Inner product is 683\n",
      "The Cosine similarity is 0.8253729727750276\n"
     ]
    }
   ],
   "source": [
    "# Main program\n",
    "X=(5,8,13,15,17)\n",
    "Y=(14,12,9,21,5)\n",
    "\n",
    "print(\"The Euclidean Distance is\",EuclideanDist(X,Y))\n",
    "print(\"The Inner product is\",InnerProductv(X,Y))\n",
    "print(\"The Cosine similarity is\",CosineSimilarity(X,Y))"
   ]
  },
  {
   "cell_type": "code",
   "execution_count": null,
   "metadata": {},
   "outputs": [],
   "source": []
  }
 ],
 "metadata": {
  "kernelspec": {
   "display_name": "Python 3",
   "language": "python",
   "name": "python3"
  },
  "language_info": {
   "codemirror_mode": {
    "name": "ipython",
    "version": 3
   },
   "file_extension": ".py",
   "mimetype": "text/x-python",
   "name": "python",
   "nbconvert_exporter": "python",
   "pygments_lexer": "ipython3",
   "version": "3.8.3"
  }
 },
 "nbformat": 4,
 "nbformat_minor": 4
}

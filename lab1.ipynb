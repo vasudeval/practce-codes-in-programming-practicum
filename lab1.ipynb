{
 "cells": [
  {
   "cell_type": "code",
   "execution_count": 2,
   "metadata": {},
   "outputs": [
    {
     "name": "stdout",
     "output_type": "stream",
     "text": [
      "enter the values of a,b,c\n",
      "3 4 5\n",
      "enter any n value greater than 2\n",
      "2\n",
      "Fermat theorem failed\n"
     ]
    }
   ],
   "source": [
    "#fermats last theorem\n",
    "import math\n",
    "print(\"enter the values of a,b,c\")\n",
    "a,b,c=input().split()\n",
    "a=int(a)\n",
    "b=int(b)\n",
    "c=int(c)\n",
    "print(\"enter any n value greater than 2\")\n",
    "n=int(input())\n",
    "\n",
    "if a**n+b**n!=c**n:\n",
    "    print(\"fermat theorem verified\")\n",
    "else:\n",
    "    print(\"Fermat theorem failed\")"
   ]
  },
  {
   "cell_type": "code",
   "execution_count": 3,
   "metadata": {},
   "outputs": [
    {
     "name": "stdout",
     "output_type": "stream",
     "text": [
      "enter three sides of triangle\n",
      "3 4 5\n",
      "It makes a triangle\n"
     ]
    }
   ],
   "source": [
    "# 4Triangle\n",
    "print(\"enter three sides of triangle\")\n",
    "a,b,c=input().split()\n",
    "a=int(a)\n",
    "b=int(b)\n",
    "c=int(c)\n",
    "if a+b>c and a+c>b and b+c>a:\n",
    "    print(\"It makes a triangle\")\n",
    "else:\n",
    "    print(\"cannot\")"
   ]
  },
  {
   "cell_type": "code",
   "execution_count": 9,
   "metadata": {},
   "outputs": [
    {
     "name": "stdout",
     "output_type": "stream",
     "text": [
      "Enter a number n\n",
      "6\n",
      "factorial of n is 720\n"
     ]
    }
   ],
   "source": [
    "#5 calculating factorial\n",
    "print(\"Enter a number n\")\n",
    "n=int(input())\n",
    "fact=1\n",
    "while n>1:\n",
    "    fact=fact*n\n",
    "    n=n-1\n",
    "print(\"factorial of n is\",fact )\n",
    "    "
   ]
  },
  {
   "cell_type": "code",
   "execution_count": null,
   "metadata": {},
   "outputs": [],
   "source": [
    "# fibonnaci series till desired number\n",
    "print(\"enter a countgreater than 2\")\n",
    "limit=int(input())\n",
    "count=0\n",
    "prev=0\n",
    "next=1\n",
    "while count<=limit:\n",
    "    print(prev)\n",
    "    sum=next+prev\n",
    "    prev=next\n",
    "    next=sum\n",
    "    count+=1\n",
    "    \n",
    "    \n",
    "    "
   ]
  },
  {
   "cell_type": "code",
   "execution_count": null,
   "metadata": {},
   "outputs": [],
   "source": [
    "#9 pallindrome\n",
    "print(\"enter a string\")\n",
    "string=input()\n",
    "rev_string=string.reverse()\n",
    "if string==rev_string:\n",
    "    print('Pallindrome')\n",
    "else:\n",
    "    print(\"not a pallindrome\")"
   ]
  }
 ],
 "metadata": {
  "kernelspec": {
   "display_name": "Python 3",
   "language": "python",
   "name": "python3"
  },
  "language_info": {
   "codemirror_mode": {
    "name": "ipython",
    "version": 3
   },
   "file_extension": ".py",
   "mimetype": "text/x-python",
   "name": "python",
   "nbconvert_exporter": "python",
   "pygments_lexer": "ipython3",
   "version": "3.7.0"
  }
 },
 "nbformat": 4,
 "nbformat_minor": 2
}

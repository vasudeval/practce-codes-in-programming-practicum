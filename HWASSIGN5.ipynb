{
 "cells": [
  {
   "cell_type": "code",
   "execution_count": 103,
   "metadata": {},
   "outputs": [
    {
     "name": "stdout",
     "output_type": "stream",
     "text": [
      "[[1], [1, 2], [1, 2, 3], [1, 2, 3, 4], [2], [2, 3], [2, 3, 4], [3], [3, 4], [4], [1], [1, 3], [1, 3, 4], [3], [3, 4], [4], [1], [1, 4], [4], [1], [], [[1], [1, 2], [1, 2, 3], [1, 2, 3, 4], [2], [2, 3], [2, 3, 4], [3], [3, 4], [4], [1], [1, 3], [1, 3, 4], [3], [3, 4], [4], [1], [1, 4], [4], [1], []], [[1], [1, 2], [1, 2, 3], [1, 2, 3, 4], [2], [2, 3], [2, 3, 4], [3], [3, 4], [4], [1], [1, 3], [1, 3, 4], [3], [3, 4], [4], [1], [1, 4], [4], [1], [], [[1], [1, 2], [1, 2, 3], [1, 2, 3, 4], [2], [2, 3], [2, 3, 4], [3], [3, 4], [4], [1], [1, 3], [1, 3, 4], [3], [3, 4], [4], [1], [1, 4], [4], [1], []]], [[1], [1, 2], [1, 2, 3], [1, 2, 3, 4], [2], [2, 3], [2, 3, 4], [3], [3, 4], [4], [1], [1, 3], [1, 3, 4], [3], [3, 4], [4], [1], [1, 4], [4], [1], [], [[1], [1, 2], [1, 2, 3], [1, 2, 3, 4], [2], [2, 3], [2, 3, 4], [3], [3, 4], [4], [1], [1, 3], [1, 3, 4], [3], [3, 4], [4], [1], [1, 4], [4], [1], []], [[1], [1, 2], [1, 2, 3], [1, 2, 3, 4], [2], [2, 3], [2, 3, 4], [3], [3, 4], [4], [1], [1, 3], [1, 3, 4], [3], [3, 4], [4], [1], [1, 4], [4], [1], [], [[1], [1, 2], [1, 2, 3], [1, 2, 3, 4], [2], [2, 3], [2, 3, 4], [3], [3, 4], [4], [1], [1, 3], [1, 3, 4], [3], [3, 4], [4], [1], [1, 4], [4], [1], []]]]]\n"
     ]
    }
   ],
   "source": [
    "#program 1\n",
    "def fun1(l,sub):\n",
    "    \n",
    "   \n",
    "    if len(l) == 1:\n",
    "        sub.append(l.copy())\n",
    "        sub.append([])\n",
    "        return sub\n",
    "    else:\n",
    "        \n",
    "        lc=l.copy()\n",
    "        s=[]\n",
    "        for i in l:            \n",
    "            s.append(i)\n",
    "            sub.append(s.copy())\n",
    "            lc.pop(0)\n",
    "            #print(lc)\n",
    "            for j in lc:\n",
    "                s.append(j)\n",
    "                #print(s)\n",
    "                sub.append(s.copy())\n",
    "                #print(sub)\n",
    "            s=[]\n",
    "            \n",
    "        l.pop(1)\n",
    "        sub.append(fun1(l,sub).copy())\n",
    "        return sub\n",
    "li=[1,2,3,4]\n",
    "print(fun1(li,sub=[]))"
   ]
  },
  {
   "cell_type": "code",
   "execution_count": 91,
   "metadata": {},
   "outputs": [
    {
     "name": "stdout",
     "output_type": "stream",
     "text": [
      "Enter two numbers\n",
      "10\n",
      "12\n",
      "GCD oftwo numbers is\n",
      "2\n"
     ]
    }
   ],
   "source": [
    "#2 program for GCD\n",
    "def fun2(x,y,n):\n",
    "    if x%n==0 and y%n==0:\n",
    "        #print(n)\n",
    "        return n\n",
    "    else:\n",
    "        return fun2(x,y,n-1)\n",
    "print(\"Enter two numbers\")\n",
    "a=int(input())\n",
    "b=int(input())\n",
    "\n",
    "print(\"GCD oftwo numbers is\")\n",
    "b1=fun2(a,b,min(a,b))\n",
    "print(b1)"
   ]
  },
  {
   "cell_type": "code",
   "execution_count": null,
   "metadata": {},
   "outputs": [],
   "source": [
    "#3"
   ]
  },
  {
   "cell_type": "code",
   "execution_count": 111,
   "metadata": {},
   "outputs": [
    {
     "name": "stdout",
     "output_type": "stream",
     "text": [
      "Enter Size pf password5\n",
      "Enter number of passwords10\n",
      "27807\n",
      "\n",
      "82075\n",
      "\n",
      "70240\n",
      "\n",
      "64431\n",
      "\n",
      "12031\n",
      "\n",
      "22761\n",
      "\n",
      "80128\n",
      "\n",
      "73636\n",
      "\n",
      "61476\n",
      "\n",
      "10425\n",
      "\n"
     ]
    }
   ],
   "source": [
    "#4\n",
    "import numpy as np\n",
    "f=open(\"MYPasswords.txt\",\"w+\")\n",
    "pn=int(input(\"Enter Size pf password\"))\n",
    "nump=int(input(\"Enter number of passwords\"))\n",
    "\n",
    "for i in range(nump):\n",
    "    s=\"\"\n",
    "    for j in range(pn):\n",
    "        k=np.random.randint(0,9)\n",
    "        s+=str(k)\n",
    "    f.write(s+\"\\n\")\n",
    "f.close()\n",
    "f=open(\"MYPasswords.txt\",\"r\")\n",
    "for i in range(nump):\n",
    "    p=f.readline()\n",
    "    print(p)\n",
    "    \n"
   ]
  },
  {
   "cell_type": "code",
   "execution_count": 148,
   "metadata": {},
   "outputs": [
    {
     "name": "stdout",
     "output_type": "stream",
     "text": [
      "{'Python': 27, 'interpreted,': 1, 'general-purpose': 1, 'language.': 2, 'Guido': 3, 'Rossum': 5, 'first': 1, '1991,': 1, 'design': 1, 'emphasizes': 1, 'readability': 1, 'notable': 1, 'significant': 1, 'Its': 2, 'constructs': 1, 'object-oriented': 1, 'aim': 1, 'help': 1, 'write': 1, 'logical': 1, 'small': 1, 'large-scale': 1, 'dynamically': 1, 'garbage-collected.': 1, 'supports': 1, 'programming': 2, 'structured': 1, 'procedural),': 1, 'functional': 1, 'often': 1, '\"batteries': 1, 'language': 6, 'comprehensive': 1, 'library.[29]': 1, 'created': 1, 'late': 2, 'successor': 2, 'ABC': 2, 'released': 6, 'introduced': 1, 'like': 1, 'comprehensions': 1, 'garbage': 2, 'system': 1, 'reference': 2, '3.0,': 1, '2008,': 1, 'major': 4, 'completely': 2, 'much': 1, 'code': 5, 'unmodified': 1, '3.': 2, '2': 4, 'discontinued': 1, '2020': 3, 'planned': 1, '2015),': 1, '\"Python': 1, 'last': 2, 'release': 1, 'therefore': 1, 'release.\"[30]': 1, 'security': 1, 'improvements': 1, 'it.[31][32]': 1, \"2's\": 1, '3.6.x[33]': 1, 'later': 1, 'supported.': 1, 'available': 1, 'many': 2, 'systems.': 1, 'global': 1, 'programmers': 2, 'maintains': 1, 'free': 1, 'open-source[34]': 1, 'A': 2, 'Software': 1, 'manages': 1, 'directs': 1, 'CPython': 1, 'conceived': 1, '1980s[35]': 1, 'van': 3, 'Wiskunde': 1, 'Informatica': 1, 'Netherlands': 1, '(itself': 1, 'SETL),[36]': 1, 'exception': 1, 'interfacing': 1, 'Amoeba': 1, 'system.[8]': 1, 'began': 1, 'December': 2, 'Van': 2, 'sole': 1, 'project,': 1, 'lead': 2, '12': 1, '2018,': 1, 'announced': 1, '\"permanent': 1, 'responsibilities': 1, \"Python's\": 2, 'For': 1, 'title': 1, 'community': 2, 'reflect': 1, 'long-term': 1, \"project's\": 1, 'decision-maker.[38]': 1, 'shares': 1, 'leadership': 1, 'member': 1, 'five-person': 1, 'council.[39][40][41]': 1, 'January': 1, 'active': 1, 'developers': 1, 'Brett': 1, 'Nick': 1, 'Barry': 1, 'Carol': 1, 'five-member': 1, 'Council\"': 1, 'project.[42]': 1, 'since': 1, 'withdrawn': 1, 'nomination': 1, 'Steering': 1, '2.0': 1, '16': 1, '2000': 1, 'new': 1, 'including': 2, 'collector': 1, 'support': 1, 'Unicode.[44]': 1, '3': 2, 'It': 2, 'revision': 2, 'backward-compatible.[45]': 1, 'features': 2, '2.6.x[46]': 1, '2.7.x': 1, 'series.': 1, 'include': 1, '2to3': 1, 'automates': 1, 'least': 1, 'translation': 1, '3.[47]': 1, 'end-of-life': 1, 'initially': 1, '2015': 1, 'postponed': 1, 'concern': 1, 'large': 1, 'existing': 1, 'easily': 1, 'forward-ported': 1}\n"
     ]
    }
   ],
   "source": [
    "#4\n",
    "import re\n",
    "f=open(r\"C:\\Users\\lenka\\Desktop\\Easypad.txt\",\"r\")\n",
    "fs=open(r\"C:\\Users\\lenka\\Desktop\\stopfile.txt\",\"r\")\n",
    "\n",
    "sl2=[]\n",
    "for i in fs.readlines():\n",
    "    l=list(i.split(\",\"))\n",
    "    for j in l:\n",
    "        j0=j.strip()\n",
    "        j1=re.sub(\"`\",\"\",j0)\n",
    "        j2=re.sub(\"'\",\"\",j1)\n",
    "        j2.strip()\n",
    "        #print(j2)\n",
    "        sl2.append(j2)\n",
    "#print(sl2)\n",
    "d={}\n",
    "lis=[]\n",
    "for i in f.readlines():\n",
    "    i1=list(i.split())\n",
    "    for j in i1:\n",
    "        lis.append(j)\n",
    "for i in lis:\n",
    "    if i not in sl2:\n",
    "        c=lis.count(i)\n",
    "        d[i]=c\n",
    "        for k in range(c):\n",
    "            lis.remove(i)\n",
    "print(d)\n",
    "        \n",
    "          \n"
   ]
  },
  {
   "cell_type": "code",
   "execution_count": null,
   "metadata": {},
   "outputs": [],
   "source": []
  }
 ],
 "metadata": {
  "kernelspec": {
   "display_name": "Python 3",
   "language": "python",
   "name": "python3"
  },
  "language_info": {
   "codemirror_mode": {
    "name": "ipython",
    "version": 3
   },
   "file_extension": ".py",
   "mimetype": "text/x-python",
   "name": "python",
   "nbconvert_exporter": "python",
   "pygments_lexer": "ipython3",
   "version": "3.8.3"
  }
 },
 "nbformat": 4,
 "nbformat_minor": 4
}

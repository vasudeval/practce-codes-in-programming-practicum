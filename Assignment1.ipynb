{
 "cells": [
  {
   "cell_type": "code",
   "execution_count": 4,
   "metadata": {},
   "outputs": [],
   "source": [
    "#0 function for checking Binary number\n",
    "def binarynumber_check(binarynumber):\n",
    "    for i in binarynumber:\n",
    "        if i not in [\"0\",\"1\"]:       # Binary number should have only \"0\" and \"1\"\n",
    "            return False\n",
    "        else:\n",
    "            pass\n",
    "    return True      \n"
   ]
  },
  {
   "cell_type": "code",
   "execution_count": 10,
   "metadata": {},
   "outputs": [
    {
     "name": "stdout",
     "output_type": "stream",
     "text": [
      "Enter a Binary number\n",
      "10111\n",
      "The Decimal Number is  23\n"
     ]
    }
   ],
   "source": [
    "#1 Binary number to Decimal number conversion\n",
    "import numpy as np\n",
    "print(\"Enter a Binary number\")\n",
    "binarynumber_1=input()\n",
    "binarynumber_check(binarynumber_1)                             #Checking Binary number\n",
    "if binarynumber_check(binarynumber_1)==False:\n",
    "    print(\"It's not a Binary Number , Please enter again\")\n",
    "    binarynumber_1=input()\n",
    "length_of_number_1=len(binarynumber_1)-1\n",
    "decimalnumber_1=0\n",
    "for i in binarynumber_1:                                        #Binary number conversion to Decimal \n",
    "    decimalnumber_1+=int(i)*(2**(length_of_number_1))\n",
    "    length_of_number_1-=1\n",
    "    \n",
    "print(\"The Decimal Number is \",decimalnumber_1)  \n",
    "    "
   ]
  },
  {
   "cell_type": "code",
   "execution_count": 32,
   "metadata": {},
   "outputs": [
    {
     "name": "stdout",
     "output_type": "stream",
     "text": [
      "Please enter a decimal number\n",
      "16\n",
      "The Binary Number is  10000\n"
     ]
    }
   ],
   "source": [
    "#2 Decimal to Binary conversion\n",
    "import numpy as np\n",
    "print(\"Please enter a decimal number\")\n",
    "decimalnumber_2=int(input())\n",
    "binarynumber_reverse_2=\"\"\n",
    "if decimalnumber_2==1:\n",
    "    print(\"Binary number is 1\")\n",
    "elif decimalnumber_2==0:\n",
    "    print(\"Binary number is 0\")\n",
    "else:\n",
    "    while decimalnumber_2>=2:                                                  #converting Decimal to Binary number in reverse order\n",
    "        decimalnumbers_2=int(decimalnumber_2%2)\n",
    "        binarynumber_reverse_2=binarynumber_reverse_2+str(decimalnumbers_2)\n",
    "        decimalnumber_2=int(decimalnumber_2/2)\n",
    "    binarynumber_reverse_2+=str(decimalnumber_2)\n",
    "    binarynumber_2=binarynumber_reverse_2[::-1]                              #reversing the string to get binary number\n",
    "\n",
    "    print(\"The Binary Number is \",binarynumber_2)\n",
    "    "
   ]
  },
  {
   "cell_type": "code",
   "execution_count": 7,
   "metadata": {},
   "outputs": [
    {
     "name": "stdout",
     "output_type": "stream",
     "text": [
      "Enter two  Binary numbers\n",
      "12 10\n",
      "Entered decimal number , Please Enter two binary numbers again\n",
      "110 11\n",
      "100\n",
      "The Output of Binary addition is 1001\n"
     ]
    }
   ],
   "source": [
    "#3 Addition of two binary numbers without converting to decimals\n",
    "import numpy as np\n",
    "print(\"Enter two  Binary numbers\")\n",
    "binarynumber1_3,binarynumber2_3=input().split()\n",
    "if binarynumber_check(binarynumber1_3)==False or binarynumber_check(binarynumber2_3)==False:    # Checking Binary number or not\n",
    "    print(\"Entered decimal number , Please Enter two binary numbers again\")\n",
    "    binarynumber1_3,binarynumber2_3=input().split()\n",
    "n1_3=len(binarynumber1_3)\n",
    "n2_3=len(binarynumber2_3)\n",
    "if len(binarynumber1_3)<len(binarynumber2_3):                                                 #Correcting Unequal length Binary by appending zeroes on left side\n",
    "    for i in range(n2_3-n1_3):\n",
    "        binarynumber1_3=\"0\"+binarynumber1_3\n",
    "elif len(binarynumber1_3)>len(binarynumber2_3):\n",
    "     for i in range(n1_3-n2_3):\n",
    "        binarynumber2_3=\"0\"+binarynumber2_3\n",
    "else:\n",
    "    pass\n",
    "\n",
    "carry=\"0\"                                                                                    # Performing Bitwise addition in reverse order\n",
    "Binaryoutput_3=\"\"\n",
    "n=len(binarynumber1_3)\n",
    "for i in list(range(-1,-n-1,-1)):\n",
    "    if binarynumber1_3[i]==\"0\" and binarynumber2_3[i]==\"0\" and carry==\"0\":\n",
    "        Binaryoutput_3+=\"0\"\n",
    "        carry=\"0\"\n",
    "    elif binarynumber1_3[i]==\"0\" and binarynumber2_3[i]==\"0\" and carry==\"1\":\n",
    "        Binaryoutput_3+=\"1\"\n",
    "        carry=\"0\"\n",
    "    elif binarynumber1_3[i]==\"0\" and binarynumber2_3[i]==\"1\" and carry==\"0\":\n",
    "        Binaryoutput_3+=\"1\"\n",
    "        carry=\"0\"\n",
    "    elif binarynumber1_3[i]==\"0\" and binarynumber2_3[i]==\"1\" and carry==\"1\":\n",
    "        Binaryoutput_3+=\"0\"\n",
    "        carry=\"1\"\n",
    "    elif binarynumber1_3[i]==\"1\" and binarynumber2_3[i]==\"0\" and carry==\"0\":\n",
    "        Binaryoutput_3+=\"1\"\n",
    "        carry=\"0\"\n",
    "    elif binarynumber1_3[i]==\"1\" and binarynumber2_3[i]==\"0\" and carry==\"1\":\n",
    "        Binaryoutput_3+=\"0\"\n",
    "        carry=\"1\"\n",
    "    elif binarynumber1_3[i]==\"1\" and binarynumber2_3[i]==\"1\" and carry==\"0\":\n",
    "        Binaryoutput_3+=\"0\"\n",
    "        carry=\"1\"\n",
    "    elif binarynumber1_3[i]==\"1\" and binarynumber2_3[i]==\"1\" and carry==\"1\":\n",
    "        Binaryoutput_3+=\"1\"\n",
    "        carry=\"1\"\n",
    "Binaryoutput_3=Binaryoutput_3+carry                                                  # Appending final carry\n",
    "Binaryoutputr_3=Binaryoutput_3[::-1]                                                 # Reversing String to get correcrt Binary number\n",
    "    \n",
    "print(\"The Output of Binary addition is\",Binaryoutputr_3)"
   ]
  },
  {
   "cell_type": "code",
   "execution_count": 9,
   "metadata": {},
   "outputs": [
    {
     "name": "stdout",
     "output_type": "stream",
     "text": [
      "Enter two  Binary numbers\n",
      "110 01\n",
      "The Bitwise OR output is 111\n",
      "The Bitwise AND output is 000\n"
     ]
    }
   ],
   "source": [
    "#4 code to perform Bitwise AND and Bitwise OR\n",
    "print(\"Enter two  Binary numbers\")\n",
    "binarynumber1_4,binarynumber2_4=input().split()\n",
    "if binarynumber_check(binarynumber1_4)==False or binarynumber_check(binarynumber2_4)==False:   # Checking Binary Number or not\n",
    "    print(\"Entered decimal number , Please Enter two binary numbers again\")\n",
    "    binarynumber1_4,binarynumber2_4=input().split()\n",
    "n1_4=len(binarynumber1_4)                                                                     # Correcting Unequal lengths by appending zeroes on left side\n",
    "n2_4=len(binarynumber2_4)\n",
    "if len(binarynumber1_4)<len(binarynumber2_4):\n",
    "    for i in range(n2_4-n1_4):\n",
    "        binarynumber1_4=\"0\"+binarynumber1_4\n",
    "elif len(binarynumber1_4)>len(binarynumber2_4):\n",
    "     for i in range(n1_4-n2_4):\n",
    "        binarynumber2_4=\"0\"+binarynumber2_4\n",
    "n_4=len(binarynumber1_4)\n",
    "BitwiseOR_4=\"\"\n",
    "BitwiseAND_4=\"\"  \n",
    "for i in range(n_4):                                                                          # Performing Bitwise OR operation\n",
    "    if binarynumber1_4[i]==\"0\" and binarynumber2_4[i]==\"0\":\n",
    "        BitwiseOR_4+=\"0\"\n",
    "    elif binarynumber1_4[i]==\"0\" and binarynumber2_4[i]==\"1\":\n",
    "        BitwiseOR_4+=\"1\"\n",
    "    elif binarynumber1_4[i]==\"0\" and binarynumber2_4[i]==\"1\":\n",
    "        BitwiseOR_4+=\"1\"\n",
    "    elif binarynumber1_4[i]==\"1\" and binarynumber2_4[i]==\"0\":\n",
    "        BitwiseOR_4+=\"1\"\n",
    "    elif binarynumber1_4[i]==\"1\" and binarynumber2_4[i]==\"1\":\n",
    "        BitwiseOR_4+=\"1\"\n",
    "    else:\n",
    "        pass\n",
    "print(\"The Bitwise OR output is\",BitwiseOR_4)\n",
    "for i in range(n_4):                                                                        # Performing Bitwise AND operation\n",
    "    if binarynumber1_4[i]==\"0\" and binarynumber2_4[i]==\"0\":\n",
    "        BitwiseAND_4+=\"0\"\n",
    "    elif binarynumber1_4[i]==\"0\" and binarynumber2_4[i]==\"1\":\n",
    "        BitwiseAND_4+=\"0\"\n",
    "    elif binarynumber1_4[i]==\"0\" and binarynumber2_4[i]==\"1\":\n",
    "        BitwiseAND_4+=\"0\"\n",
    "    elif binarynumber1_4[i]==\"1\" and binarynumber2_4[i]==\"0\":\n",
    "        BitwiseAND_4+=\"0\"\n",
    "    elif binarynumber1_4[i]==\"1\" and binarynumber2_4[i]==\"1\":\n",
    "        BitwiseAND_4+=\"1\"\n",
    "    else:\n",
    "        pass\n",
    "print(\"The Bitwise AND output is\",BitwiseAND_4)\n"
   ]
  },
  {
   "cell_type": "code",
   "execution_count": null,
   "metadata": {},
   "outputs": [],
   "source": [
    "#5 Checking If two strings are same or not\n",
    "print(\"Enter two strings\")\n",
    "string1_5=input()\n",
    "string2_5=input()\n",
    "if string1_5==string2_5:        # Checking for same or equal strings\n",
    "    print(\"YES\")\n",
    "else:\n",
    "    print(\"NO\")"
   ]
  }
 ],
 "metadata": {
  "kernelspec": {
   "display_name": "Python 3",
   "language": "python",
   "name": "python3"
  },
  "language_info": {
   "codemirror_mode": {
    "name": "ipython",
    "version": 3
   },
   "file_extension": ".py",
   "mimetype": "text/x-python",
   "name": "python",
   "nbconvert_exporter": "python",
   "pygments_lexer": "ipython3",
   "version": "3.7.0"
  }
 },
 "nbformat": 4,
 "nbformat_minor": 2
}

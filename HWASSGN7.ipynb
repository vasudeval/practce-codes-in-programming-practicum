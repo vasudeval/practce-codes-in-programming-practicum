{
 "cells": [
  {
   "cell_type": "code",
   "execution_count": 7,
   "metadata": {},
   "outputs": [
    {
     "name": "stdout",
     "output_type": "stream",
     "text": [
      "Enter number of trials10000\n",
      "Prob of head is  0.4995\n",
      "prob of tails is  0.5005\n"
     ]
    }
   ],
   "source": [
    "# Fair coin implementation\n",
    "import numpy as np\n",
    "def faircoin():\n",
    "    return np.random.uniform(0,1)\n",
    "n=int(input(\"Enter number of trials\"))\n",
    "count=0\n",
    "for i in range(n):\n",
    "    if faircoin()<=0.5:\n",
    "        count+=1\n",
    "print(\"Prob of head is \",count/n)\n",
    "print(\"prob of tails is \",1-(count/n))\n",
    "    \n",
    "\n"
   ]
  },
  {
   "cell_type": "code",
   "execution_count": 15,
   "metadata": {},
   "outputs": [
    {
     "name": "stdout",
     "output_type": "stream",
     "text": [
      "Enter order of matrix A3\n",
      "Enter matrix elements rowwise1 4 7 8 5 2 3 6 9 \n",
      "Enter elements of B2 5 8 \n",
      "Infinite solutions\n"
     ]
    }
   ],
   "source": [
    "#2 program to solve system of linear equations\n",
    "import numpy as np\n",
    "\n",
    "n=int(input(\"Enter order of matrix A\"))\n",
    "matA=[]\n",
    "matA=input(\"Enter matrix elements rowwise\").split()\n",
    "matA1=[]\n",
    "for i in matA:\n",
    "    matA1.append(int(i))\n",
    "matA1=np.array(matA1)    \n",
    "matA1.reshape(n,n)\n",
    "matB=[]\n",
    "matB=input(\"Enter elements of B\").split()\n",
    "matB1=[]\n",
    "for i in matB:\n",
    "    matB1.append(int(i))\n",
    "matB1=np.array(matB1)\n",
    "matB1.reshape(n,1)\n",
    "if np.linalg.matrix_rank(matA1)!=np.linalg.matrix_rank(matB1):\n",
    "    print(\"No solution\")\n",
    "elif np.linalg.matrix_rank(matA1)<n:\n",
    "    print(\"Infinite solutions\")\n",
    "else:\n",
    "    matX=np.linalg.dot(np.linalg.inv(matA1),matB1)\n",
    "    print(\"Unique solution is \",matX)\n",
    "\n",
    "    \n"
   ]
  },
  {
   "cell_type": "code",
   "execution_count": 26,
   "metadata": {},
   "outputs": [
    {
     "name": "stdout",
     "output_type": "stream",
     "text": [
      "Enter the number of rows:2\n",
      "Enter the number of columns:2\n",
      "Enter the entries rowwise:\n",
      "31 24 \n",
      "27 46 \n",
      "Enter the number of rows:2\n",
      "Enter the number of columns:2\n",
      "Enter the entries rowwise:\n",
      "14 14 \n",
      "21 11 \n",
      "the sum of matrices is:\n",
      " [[45 38]\n",
      " [48 57]]\n",
      "the subtraction of matrices is:\n",
      " [[17 10]\n",
      " [ 6 35]]\n",
      "the multiplication matrix is:\n",
      " [[ 938  698]\n",
      " [1344  884]]\n"
     ]
    }
   ],
   "source": [
    "#3 program to generate two random matrices and create\n",
    "\n",
    "Ra = int(input(\"Enter the number of rows:\")) \n",
    "Ca = int(input(\"Enter the number of columns:\"))   # take the matrices A and B from user\n",
    "matrixa = [] \n",
    "print(\"Enter the entries rowwise:\") \n",
    "for i in range(Ra):          # A for loop for row entries \n",
    "    a =[] \n",
    "    for j in range(Ca):      # A for loop for column entries \n",
    "         a.append(np.random.randint(1,50))\n",
    "    matrixa.append(a) \n",
    "for i in range(Ra): \n",
    "    for j in range(Ca): \n",
    "        print(matrixa[i][j], end = \" \") \n",
    "    print() \n",
    "\n",
    "np.savetxt(\"MatA.txt\",matrixa, fmt=\"%s\")\n",
    "Rb = int(input(\"Enter the number of rows:\")) \n",
    "Cb = int(input(\"Enter the number of columns:\"))   \n",
    "matrixb = [] \n",
    "print(\"Enter the entries rowwise:\") \n",
    "for i in range(Rb):          \n",
    "    r =[] \n",
    "    for j in range(Cb):      \n",
    "         r.append(np.random.randint(1,50)) \n",
    "    matrixb.append(r)  \n",
    "for i in range(Rb): \n",
    "    for j in range(Cb): \n",
    "        print(matrixb[i][j], end = \" \") \n",
    "    print()  \n",
    "np.savetxt(\"MatB.txt\", matrixb, fmt=\"%s\")\n",
    "if Ra==Rb and Ca==Cb:\n",
    "    sum_mat=np.add(matrixa,matrixb)\n",
    "    sub_mat=np.subtract(matrixa,matrixb)\n",
    "    print(\"the sum of matrices is:\\n\",sum_mat)\n",
    "    print(\"the subtraction of matrices is:\\n\",sub_mat)   \n",
    "else:\n",
    "    print(\"operation cannot be performed\")\n",
    "if Ca==Rb:\n",
    "    mul_mat=np.dot(matrixa,matrixb)\n",
    "    print(\"the multiplication matrix is:\\n\",mul_mat)\n",
    "else:\n",
    "    print(\"We cannot perform multiplication:\\n\")\n",
    "    "
   ]
  },
  {
   "cell_type": "code",
   "execution_count": 27,
   "metadata": {},
   "outputs": [
    {
     "name": "stdout",
     "output_type": "stream",
     "text": [
      "[1, 2, 3, 4, 5]\n",
      "0\n",
      "5\n",
      "3\n",
      "6\n",
      "6\n",
      "9\n",
      "0\n",
      "10\n",
      "Following are k randomly selected items\n",
      "11 2 3 7 5 \n"
     ]
    }
   ],
   "source": [
    "#4\n",
    "import random \n",
    "def printArray(stream,n): \n",
    "    for i in range(n): \n",
    "        print(stream[i],end=\" \") \n",
    "    print()  \n",
    "def selectKItems(stream, n, k):                   # A function to randomly select \n",
    "        i=0                                       # k items from stream[0..n-1].           \n",
    "        rand_array = [0]*k;                         # index for elements  in stream[] \n",
    "        for i in range(k):                         # rand_array[] is the output \n",
    "            rand_array[i] = stream[i];              # array. Initialize it with  first k elements from stream[]        \n",
    "        print(rand_array) \n",
    "        while(i < n):                           # Iterate from the (k+1)th \n",
    "                j = random.randrange(i+1)        # Pick a random index from 0 to i. \n",
    "                print(j)\n",
    "                if(j < k): \n",
    "                    rand_array[j] = stream[i]        # If the randomly picked index is smaller than k, then replace the element \n",
    "                i+=1                                #present at the index \n",
    "        print(\"Following are k randomly selected items\") \n",
    "        printArray(rand_array, k) \n",
    "stream = [1, 2, 3, 4, 5, 6, 7, 8, 9, 10, 11, 12] \n",
    "n = len(stream); \n",
    "k = 5 \n",
    "selectKItems(stream, n, k) \n",
    "  "
   ]
  },
  {
   "cell_type": "code",
   "execution_count": null,
   "metadata": {},
   "outputs": [],
   "source": []
  }
 ],
 "metadata": {
  "kernelspec": {
   "display_name": "Python 3",
   "language": "python",
   "name": "python3"
  },
  "language_info": {
   "codemirror_mode": {
    "name": "ipython",
    "version": 3
   },
   "file_extension": ".py",
   "mimetype": "text/x-python",
   "name": "python",
   "nbconvert_exporter": "python",
   "pygments_lexer": "ipython3",
   "version": "3.8.3"
  }
 },
 "nbformat": 4,
 "nbformat_minor": 4
}

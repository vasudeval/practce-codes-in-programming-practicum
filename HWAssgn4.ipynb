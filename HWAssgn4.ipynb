{
 "cells": [
  {
   "cell_type": "code",
   "execution_count": 23,
   "metadata": {},
   "outputs": [
    {
     "name": "stdout",
     "output_type": "stream",
     "text": [
      "{('a', 'c'): 2, ('b', 'd'): 2}\n",
      "('a', 'c'): 2, ('b', 'd'): 2\n",
      "[('a', 'c'), ('b', 'd'), ('e', 'f')]\n"
     ]
    }
   ],
   "source": [
    "#1 Program to find duplicate tuples\n",
    "def fun1(a):\n",
    "    dic={}\n",
    "    n=0\n",
    "    l=[]\n",
    "    for i in a:\n",
    "        if a.count(i)==1 and i not in l:\n",
    "            l.append(i)\n",
    "        elif a.count(i)>1 and i not in l:\n",
    "            dic[i]=a.count(i)\n",
    "            b=int(a.count(i))\n",
    "            l.append(i)\n",
    "            n+=1\n",
    "        else:\n",
    "            pass\n",
    "    if n==0:\n",
    "        print(\"No duplicates found\")\n",
    "    else:\n",
    "       \n",
    "        print(str(dic)[1:len(str(dic))-1])\n",
    "    print(l)\n",
    "    \n",
    "b=[('a','c'),('b','d'),('a','c'),('b','d'),('e','f')]   \n",
    "fun1(b)"
   ]
  },
  {
   "cell_type": "code",
   "execution_count": 30,
   "metadata": {},
   "outputs": [
    {
     "name": "stdout",
     "output_type": "stream",
     "text": [
      "[(1, 3), (2, 3), (4, 5)]\n"
     ]
    }
   ],
   "source": [
    "#2 program to sort based on first element of tuple\n",
    "def fun2(a):\n",
    "    \n",
    "    for i in range(len(a)):\n",
    "        for j in range(i+1,len(a)):\n",
    "            if a[i][0]>a[j][0]:\n",
    "                temp=a[i]\n",
    "                a[i]=a[j]\n",
    "                a[j]=temp\n",
    "    print(a)\n",
    "\n",
    "b=[(2,3),(4,5),(1,3)]\n",
    "fun2(b)\n",
    "                "
   ]
  },
  {
   "cell_type": "code",
   "execution_count": 36,
   "metadata": {},
   "outputs": [
    {
     "name": "stdout",
     "output_type": "stream",
     "text": [
      "'python is easy '\n"
     ]
    }
   ],
   "source": [
    "# program to convert list of tuples to a string\n",
    "def fun3(a):\n",
    "    string=''\n",
    "    for i in a:\n",
    "        for j in i:\n",
    "            string+=j\n",
    "        string+=' '\n",
    "    print(\"'\"+string+\"'\")\n",
    "b=[('p','y','t','h','o','n'),('i','s'),('e','a','s','y')]\n",
    "fun3(b)"
   ]
  },
  {
   "cell_type": "code",
   "execution_count": 41,
   "metadata": {},
   "outputs": [
    {
     "name": "stdout",
     "output_type": "stream",
     "text": [
      "The jaccard similarity is  0.6666666666666666\n"
     ]
    }
   ],
   "source": [
    "#4 program to find Jaccard similarity\n",
    "def fun4(a,b):\n",
    "    c1=0\n",
    "    c2=0\n",
    "    list1=a.split(\" \")\n",
    "    list2=b.split(\" \")\n",
    "    for i in range(len(list1)):\n",
    "        if list1[i]==list2[i]:\n",
    "            c1+=1\n",
    "        c2+=1\n",
    "    print(\"The jaccard similarity is \",c1/c2)\n",
    "    \n",
    "a=\"I am great\"\n",
    "b=\"I am powerful\"\n",
    "fun4(a,b)"
   ]
  },
  {
   "cell_type": "code",
   "execution_count": 44,
   "metadata": {},
   "outputs": [
    {
     "name": "stdout",
     "output_type": "stream",
     "text": [
      "Lines are parallel\n"
     ]
    }
   ],
   "source": [
    "#5 program to find whether a1x+b1y=c1 and a2x+b2y=c2 are parallel or not\n",
    "def fun5(a,b):\n",
    "    if (a[0]/b[0])==(a[1]/b[1]):\n",
    "        print(\"Lines are parallel\")\n",
    "    else:\n",
    "        print(\"Lines are intersecting\")\n",
    "\n",
    "a=(1,2,3)\n",
    "b=(2,4,5)\n",
    "fun5(a,b)"
   ]
  },
  {
   "cell_type": "code",
   "execution_count": 80,
   "metadata": {},
   "outputs": [
    {
     "name": "stdout",
     "output_type": "stream",
     "text": [
      "247.5056098481806\n",
      "point lies outside polygon\n"
     ]
    }
   ],
   "source": [
    "#6 Program to find whether point lies in polygon or not\n",
    "import math as m\n",
    "def angle(a,b):\n",
    "    angle=m.acos(abs((a[0]*b[0]+a[1]*b[1])/m.sqrt((a[0]**2+a[1]**2)*(b[0]**2+b[1]**2))))\n",
    "    return angle*(360/3.14)\n",
    "def fun6(a,b):\n",
    "    ang=0\n",
    "    for i in a:\n",
    "        ang+=angle(i,b)\n",
    "    print(ang)\n",
    "    if m.floor(ang) in [359,360,361,362]:\n",
    "        print(\"Point lies inside polygon\")\n",
    "    else:\n",
    "        print(\"point lies outside polygon\")\n",
    "        \n",
    "a=[(1,0),(5,0),(1,5),(5,5)]\n",
    "b=(2,1)\n",
    "        \n",
    "fun6(a,b)"
   ]
  },
  {
   "cell_type": "code",
   "execution_count": 69,
   "metadata": {},
   "outputs": [
    {
     "name": "stdout",
     "output_type": "stream",
     "text": [
      "[0, 1, 4, 9, 16, 25, 36, 81]\n"
     ]
    }
   ],
   "source": [
    "#7 Python program to find all perfect squares in a range\n",
    "import math as m\n",
    "def sumn(i):\n",
    "    b=str(i)\n",
    "    n=0\n",
    "    for j in b:\n",
    "        n+=int(j)\n",
    "    return n\n",
    "\n",
    "def fun7(a):\n",
    "    l=[]\n",
    "    for i in range(a):    \n",
    "        if int(m.sqrt(i))==m.sqrt(i) and sumn(i)<10:\n",
    "            l.append(i)\n",
    "    print(l)\n",
    "fun7(100)\n",
    "            "
   ]
  },
  {
   "cell_type": "code",
   "execution_count": 71,
   "metadata": {},
   "outputs": [
    {
     "name": "stdout",
     "output_type": "stream",
     "text": [
      "[1, 3, 6, 10, 15, 21, 28, 36, 45]\n"
     ]
    }
   ],
   "source": [
    "#8 Program to find cumulative sum of elements list\n",
    "def fun8(a):\n",
    "    l=[]\n",
    "    s=0\n",
    "    for i in a:\n",
    "        s+=i\n",
    "        l.append(s)\n",
    "    print(l)\n",
    "a=[1,2,3,4,5,6,7,8,9]       \n",
    "fun8(a)"
   ]
  },
  {
   "cell_type": "code",
   "execution_count": 72,
   "metadata": {},
   "outputs": [
    {
     "name": "stdout",
     "output_type": "stream",
     "text": [
      "(7, 6, 5, 4, 3, 2, 1)\n"
     ]
    }
   ],
   "source": [
    "#9 Program to reverse a tuple without using any library function\n",
    "def fun9(a):\n",
    "    b=[]\n",
    "    for i in range(len(a)):\n",
    "        b.append(a[len(a)-i-1])\n",
    "    print(tuple(b))\n",
    "a=(1,2,3,4,5,6,7)\n",
    "fun9(a)"
   ]
  },
  {
   "cell_type": "code",
   "execution_count": 77,
   "metadata": {},
   "outputs": [
    {
     "name": "stdout",
     "output_type": "stream",
     "text": [
      "The random numbers are [96, 157, 257, 201, 114, 222, 392, 203, 218, 391, 71, 190, 55, 113, 99, 213, 211, 155, 39, 186, 341, 35, 98, 111, 23, 194, 87, 97, 353, 209, 160, 223, 304, 239, 10, 336, 132, 278, 316, 338, 297, 367, 301, 198, 71, 88, 77, 12, 357, 397, 190, 241, 139, 359, 321, 318, 394, 108, 66, 3, 204, 59, 162, 117, 83, 51, 370, 148, 299, 146, 355, 50, 137, 210, 135, 157, 54, 217, 96, 324, 259, 181, 357, 264, 342, 354, 369, 252, 27, 129, 82, 367, 315, 210, 115, 265, 103, 182, 320, 297]\n",
      "The prime numbers are [157, 257, 71, 113, 211, 23, 97, 353, 223, 239, 367, 71, 397, 241, 139, 359, 3, 59, 83, 137, 157, 181, 367, 103]\n"
     ]
    }
   ],
   "source": [
    "#10 program to check n randomly generated integers prime or not\n",
    "import numpy as np\n",
    "np.random.seed(153)\n",
    "def fun10(n):\n",
    "    l=[]\n",
    "    l2=[]\n",
    "    for i in range(n):\n",
    "        r=np.random.randint(1,400)\n",
    "        l2.append(r)\n",
    "        a=int(np.sqrt(r))\n",
    "        c=0\n",
    "        for j in range(2,a+1):\n",
    "            if r%j==0:\n",
    "                c+=1\n",
    "        if c==0:\n",
    "            l.append(r)\n",
    "    print(\"The random numbers are\",l2)\n",
    "    print(\"The prime numbers are\",l)\n",
    "                \n",
    "fun10(100)                \n",
    "    "
   ]
  },
  {
   "cell_type": "code",
   "execution_count": null,
   "metadata": {},
   "outputs": [],
   "source": []
  },
  {
   "cell_type": "code",
   "execution_count": null,
   "metadata": {},
   "outputs": [],
   "source": []
  }
 ],
 "metadata": {
  "kernelspec": {
   "display_name": "Python 3",
   "language": "python",
   "name": "python3"
  },
  "language_info": {
   "codemirror_mode": {
    "name": "ipython",
    "version": 3
   },
   "file_extension": ".py",
   "mimetype": "text/x-python",
   "name": "python",
   "nbconvert_exporter": "python",
   "pygments_lexer": "ipython3",
   "version": "3.8.3"
  }
 },
 "nbformat": 4,
 "nbformat_minor": 4
}

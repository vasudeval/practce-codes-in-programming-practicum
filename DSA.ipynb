{
  "cells": [
    {
      "cell_type": "code",
      "execution_count": null,
      "metadata": {
        "colab": {
          "base_uri": "https://localhost:8080/"
        },
        "id": "1wRLGutnXbgO",
        "outputId": "d6fd6008-f87c-4253-db9f-677f6ecd44e0"
      },
      "outputs": [
        {
          "name": "stdout",
          "output_type": "stream",
          "text": [
            "[2, 2, 4, 5, 6, 7, 8]\n"
          ]
        }
      ],
      "source": [
        "#Quick sort\n",
        "def QuickSort(arr,left,right):\n",
        "  if left<right:\n",
        "    partition_pos=partition(arr,left,right)\n",
        "    QuickSort(arr,left,partition_pos-1)\n",
        "    QuickSort(arr,partition_pos+1,right)\n",
        "    return arr\n",
        "def partition(arr,left,right):\n",
        "  i,j,pivot=left,right-1,arr[right]\n",
        "  while i<j:\n",
        "    while i<right and arr[i]<=pivot:\n",
        "      i+=1\n",
        "    while j>left and arr[j]>=pivot:\n",
        "      j-=1\n",
        "    if i<j:\n",
        "      arr[i],arr[j]=arr[j],arr[i]\n",
        "  if arr[i]>pivot:\n",
        "    arr[i],arr[right]=arr[right],arr[i]\n",
        "  return i\n",
        "print(QuickSort([4,2,7,5,6,8,2],0,6))"
      ]
    },
    {
      "cell_type": "code",
      "execution_count": null,
      "metadata": {
        "colab": {
          "base_uri": "https://localhost:8080/"
        },
        "id": "EJMk2uxgXzsN",
        "outputId": "ad3caef9-ccf4-4980-a230-e7cf3f30f46c"
      },
      "outputs": [
        {
          "name": "stdout",
          "output_type": "stream",
          "text": [
            "[2, 2, 4, 5, 6, 7, 8]\n"
          ]
        }
      ],
      "source": [
        "def merge(l,r):\n",
        "  i,j=0,0\n",
        "  res=[]\n",
        "  while i<len(l) and j<len(r):\n",
        "    if l[i]<=r[j]:\n",
        "      res.append(l[i])\n",
        "      i+=1\n",
        "    else:\n",
        "      res.append(r[j])\n",
        "      j+=1\n",
        "  res+=l[i::]\n",
        "  res+=r[j::]\n",
        "  #print(res)\n",
        "  return res\n",
        "def MergeSort(arr):\n",
        "  #print(arr)\n",
        "  if len(arr)<=1:\n",
        "    return arr\n",
        "  mid=int(len(arr)/2)\n",
        "  #print(mid)\n",
        "  left=MergeSort(arr[:mid])\n",
        "  right=MergeSort(arr[mid:])\n",
        "  return merge(left,right)\n",
        "\n",
        "\n",
        "print(MergeSort([4,2,7,5,6,8,2]))\n"
      ]
    },
    {
      "cell_type": "code",
      "execution_count": null,
      "metadata": {
        "colab": {
          "base_uri": "https://localhost:8080/"
        },
        "id": "e_BJy2qb5Wm1",
        "outputId": "a9a9bdc0-5f5e-4c07-9640-44ac76e76b12"
      },
      "outputs": [
        {
          "name": "stdout",
          "output_type": "stream",
          "text": [
            "[7, 5, 6, 8, 2]\n",
            "[7, 5, 6, 8, 2]\n",
            "[4, 2]\n",
            "[4, 7, 6, 2]\n"
          ]
        }
      ],
      "source": [
        "x=[4,2,7,5,6,8,2]\n",
        "print(x[2:])\n",
        "print(x[2::])\n",
        "print(x[:2])\n",
        "print(x[::2]) #stepping"
      ]
    },
    {
      "cell_type": "code",
      "execution_count": null,
      "metadata": {
        "colab": {
          "base_uri": "https://localhost:8080/"
        },
        "id": "Pt5Z3_wj50Ub",
        "outputId": "4379e295-3d2d-4ec5-b1c1-fadd5ddfa7a9"
      },
      "outputs": [
        {
          "name": "stdout",
          "output_type": "stream",
          "text": [
            "[2, 2, 4, 5, 6, 7, 8]\n"
          ]
        }
      ],
      "source": [
        "#Bubble sort\n",
        "def BubbleSort(arr):\n",
        "  for i in range(len(arr)):\n",
        "    swapped=False\n",
        "    for j in range(len(arr)-i-1):\n",
        "      if arr[j]>arr[j+1]:\n",
        "        arr[j],arr[j+1]=arr[j+1],arr[j]\n",
        "        swapped=True\n",
        "    if swapped==False:\n",
        "      break\n",
        "  return arr\n",
        "print(BubbleSort([4,2,7,5,6,8,2]))"
      ]
    },
    {
      "cell_type": "code",
      "execution_count": null,
      "metadata": {
        "colab": {
          "base_uri": "https://localhost:8080/"
        },
        "id": "oNgPrw8e7iEQ",
        "outputId": "27489377-f06e-4399-d861-e411c35b1541"
      },
      "outputs": [
        {
          "name": "stdout",
          "output_type": "stream",
          "text": [
            "[2, 2, 4, 5, 6, 7, 8]\n"
          ]
        }
      ],
      "source": [
        "#Insertion sort\n",
        "def InsertionSort(arr):\n",
        "  for i in range(1,len(arr)):\n",
        "    key=arr[i]\n",
        "    j=i-1\n",
        "    while j>=0 and arr[j]>key:\n",
        "      arr[j+1]=arr[j]\n",
        "      j-=1\n",
        "    j+=1\n",
        "    arr[j]=key\n",
        "  return arr\n",
        "print(InsertionSort([4,2,7,5,6,8,2]))\n",
        "\n"
      ]
    },
    {
      "cell_type": "code",
      "execution_count": null,
      "metadata": {
        "colab": {
          "base_uri": "https://localhost:8080/"
        },
        "id": "VGDzdMdiS0b0",
        "outputId": "1b1d048b-3c9e-4412-a628-b18fe0095eca"
      },
      "outputs": [
        {
          "name": "stdout",
          "output_type": "stream",
          "text": [
            "[2, 2, 4, 5, 6, 7, 8]\n"
          ]
        }
      ],
      "source": [
        "def SelectionSort(arr):\n",
        "  for i in range(len(arr)):\n",
        "    min=i\n",
        "    for j in range(i,len(arr)):\n",
        "      if arr[j]<arr[min]:\n",
        "        min=j\n",
        "    arr[i],arr[min]=arr[min],arr[i]\n",
        "  return arr\n",
        "print(SelectionSort([4,2,7,5,6,8,2]))"
      ]
    },
    {
      "cell_type": "code",
      "execution_count": null,
      "metadata": {
        "colab": {
          "base_uri": "https://localhost:8080/"
        },
        "id": "9S8WZMS3Qf9s",
        "outputId": "89eba558-8223-4cf0-d017-fc2b2ee4b4a7"
      },
      "outputs": [
        {
          "name": "stdout",
          "output_type": "stream",
          "text": [
            "[2, 8, 20, 39, 48, 45, 28]\n"
          ]
        }
      ],
      "source": [
        "#Convolution\n",
        "x=[1,2,3,4]\n",
        "h=[2,4,6,7]\n",
        "def conv(x,h):\n",
        "  m,n=len(x),len(h)\n",
        "  res=[]\n",
        "  l=m+n-1\n",
        "  for i in range(l):\n",
        "    sum=0\n",
        "    for j in range(i+1):\n",
        "      if (i-j)<len(h) and j<len(x):\n",
        "\n",
        "        sum+=x[j]*h[i-j]\n",
        "       # print(i,j)\n",
        "    #print(\"______\",sum)\n",
        "    res.append(sum)\n",
        "  print(res)\n",
        "\n",
        "\n",
        "conv(x,h)\n",
        "\n"
      ]
    },
    {
      "cell_type": "code",
      "execution_count": null,
      "metadata": {
        "colab": {
          "base_uri": "https://localhost:8080/"
        },
        "id": "0TrNolx_RAH0",
        "outputId": "9f6aab45-d62d-4ecb-b2d6-6344321ea800"
      },
      "outputs": [
        {
          "name": "stdout",
          "output_type": "stream",
          "text": [
            "[36, 32, 20, 32]\n"
          ]
        }
      ],
      "source": [
        "# Circular convolution\n",
        "def rotate(l,n):\n",
        "  for i in range(n):\n",
        "    val=l.pop()\n",
        "    l.insert(0,val)\n",
        "  return l\n",
        "def c_conv(x,h):\n",
        "  if len(x)>len(h):\n",
        "    h+=[0]*(len(x)-len(h))\n",
        "  elif len(h)>len(x):\n",
        "    x+=[0]*(len(h)-len(x))\n",
        "  l=len(x)\n",
        "  res=[]\n",
        "  x1=x\n",
        "  x1.reverse()\n",
        "  for i in range(l):\n",
        "    sum=0\n",
        "    xr=rotate(x1,1)\n",
        "    for j in range(l):\n",
        "      sum+=xr[j]*h[j]\n",
        "    res.append(sum)\n",
        "  print(res)\n",
        "\n",
        "x=[1,2,3,4]\n",
        "h=[2,4,6]\n",
        "c_conv(x,h)"
      ]
    },
    {
      "cell_type": "code",
      "execution_count": null,
      "metadata": {
        "colab": {
          "base_uri": "https://localhost:8080/"
        },
        "id": "k8U1CsSWyNot",
        "outputId": "6a258c8a-00f8-458f-8662-0ae13444f9d9"
      },
      "outputs": [
        {
          "output_type": "stream",
          "name": "stdout",
          "text": [
            "-235\n",
            "-235.0\n"
          ]
        }
      ],
      "source": [
        "#Finding determinant of matrices\n",
        "import numpy as np\n",
        "def det_f(mat):\n",
        "  return np.linalg.det(mat)\n",
        "from copy import deepcopy\n",
        "def small_matrix(mat1,col):\n",
        "  mat=deepcopy(mat1)\n",
        "  del mat[0]\n",
        "  for i in range(len(mat)):\n",
        "    del mat[i][col]\n",
        "  return mat\n",
        "def determinant(mat):\n",
        "  #print(mat,\"yo\")\n",
        "  if len(mat)==1:\n",
        "    return mat[0]\n",
        "\n",
        "  if len(mat)==2:\n",
        "    #print(\"returning\")\n",
        "    return mat[0][0]*mat[1][1]-mat[0][1]*mat[1][0]\n",
        "\n",
        "  else:\n",
        "    det=0\n",
        "    for i in range(len(mat)):\n",
        "      det+=((-1)**(i))*mat[0][i]*determinant(small_matrix(mat,i))\n",
        "      #del mat1\n",
        "    return det\n",
        "\n",
        "  #print(det)\n",
        "print(determinant([[1,7,1,1],[2,2,2,1],[4,1,6,1],[1,2,2,10]]))\n",
        "print(det_f([[1,7,1,1],[2,2,2,1],[4,1,6,1],[1,2,2,10]]))\n"
      ]
    },
    {
      "cell_type": "code",
      "execution_count": null,
      "metadata": {
        "colab": {
          "base_uri": "https://localhost:8080/"
        },
        "id": "7cwYKGo49r4Q",
        "outputId": "294ee88e-06d8-4c2f-aa6f-f0a7b09ea476"
      },
      "outputs": [
        {
          "name": "stdout",
          "output_type": "stream",
          "text": [
            "[[ 80.  68.  84.]\n",
            " [ 83. 105. 108.]\n",
            " [107. 115. 104.]]\n"
          ]
        }
      ],
      "source": [
        "#2d convolution\n",
        "import numpy as np\n",
        "def conv2d(mat,kernel):\n",
        "  res=np.zeros((len(mat)-len(kernel)//2-1,len(mat)-len(kernel)//2-1))\n",
        "  for i in range(len(mat)-(len(kernel)//2)-1):\n",
        "    for j in range(len(mat)-(len(kernel)//2)-1):\n",
        "      #print(i,j)\n",
        "      sum=0\n",
        "      for i1 in range(len(kernel)):\n",
        "        for j1 in range(len(kernel)):\n",
        "          sum+=mat[i+i1][j+j1]*kernel[i1][j1]\n",
        "      res[i][j]=sum\n",
        "  print(res)\n",
        "conv2d([[1,2,3,1,2],[3,1,4,5,5],[2,5,1,3,4],[6,3,4,7,2],[2,7,4,5,3]],[[1,2,5],[5,2,4],[3,4,1]])\n",
        "\n",
        "\n"
      ]
    },
    {
      "cell_type": "code",
      "execution_count": null,
      "metadata": {
        "colab": {
          "base_uri": "https://localhost:8080/"
        },
        "id": "5i99ifowyEAD",
        "outputId": "5e7a1a64-d5cc-4ee7-d318-8481a73a6b07"
      },
      "outputs": [
        {
          "name": "stdout",
          "output_type": "stream",
          "text": [
            "[[1, 2, 1], [1, 1, 1], [1, 2, 1]]\n"
          ]
        }
      ],
      "source": [
        "def small_matrix(mat,col):\n",
        "  del mat[0]\n",
        "  for i in range(len(mat)):\n",
        "    del mat[i][col]\n",
        "  print(mat)\n",
        "small_matrix([[1,1,1,1],[1,1,2,1],[1,1,1,1],[1,2,2,1]],1)\n"
      ]
    },
    {
      "cell_type": "code",
      "execution_count": null,
      "metadata": {
        "colab": {
          "base_uri": "https://localhost:8080/"
        },
        "id": "ykkLK6NLUO3X",
        "outputId": "7ab16c6a-382c-49b3-998e-eab6caaf5ea3"
      },
      "outputs": [
        {
          "name": "stdout",
          "output_type": "stream",
          "text": [
            "3\n"
          ]
        }
      ],
      "source": [
        "#binary search\n",
        "def BinarySearch(arr,val):\n",
        "  left,right=0,len(arr)\n",
        "  while left<right:\n",
        "    mid=(left+right)//2\n",
        "    if arr[mid]==val:\n",
        "      return mid\n",
        "    elif arr[mid]<val:\n",
        "      left=mid+1\n",
        "    else:\n",
        "      right=mid-1\n",
        "print(BinarySearch([1,2,3,4,5,6,7],4))\n"
      ]
    },
    {
      "cell_type": "code",
      "source": [],
      "metadata": {
        "id": "Isxfyp-qe61t"
      },
      "execution_count": null,
      "outputs": []
    },
    {
      "cell_type": "code",
      "execution_count": null,
      "metadata": {
        "colab": {
          "base_uri": "https://localhost:8080/"
        },
        "id": "vh4TH6zPWYmc",
        "outputId": "1fd5a620-e40d-417a-b6fa-cc89dd20be51"
      },
      "outputs": [
        {
          "name": "stdout",
          "output_type": "stream",
          "text": [
            "3 7\n",
            "8 9\n",
            "9\n"
          ]
        }
      ],
      "source": [
        "\n",
        "def Tsearch(arr,target):\n",
        "  l,r=0,len(arr)-1\n",
        "  while l<r:\n",
        "    mid1=(r-l)//3+l\n",
        "    mid2=r-(r-l)//3\n",
        "    print(mid1,mid2)\n",
        "    if arr[mid1]==target:\n",
        "      return mid1\n",
        "    elif arr[mid2]==target:\n",
        "      return mid2\n",
        "    elif target<arr[mid1]:\n",
        "      r=mid1\n",
        "    elif target>arr[mid2]:\n",
        "      l=mid2\n",
        "    else:\n",
        "      l,r=mid1,mid2\n",
        "  return -1\n",
        "print(Tsearch([1,2,3,4,5,6,7,8,9,10,11],10))\n",
        "\n",
        "\n",
        "\n",
        "\n",
        "\n"
      ]
    },
    {
      "cell_type": "code",
      "execution_count": null,
      "metadata": {
        "colab": {
          "base_uri": "https://localhost:8080/"
        },
        "id": "aLy8pCBaVP7w",
        "outputId": "47d39c0b-1c53-4aa0-a2fd-04e288131f1c"
      },
      "outputs": [
        {
          "name": "stdout",
          "output_type": "stream",
          "text": [
            "lenk deva\n",
            "enka deva\n",
            "nkav deva\n",
            "kava deva\n",
            "avas deva\n",
            "vasu deva\n",
            "asud deva\n",
            "sude deva\n",
            "udev deva\n",
            "deva deva\n",
            "9\n"
          ]
        }
      ],
      "source": [
        "#sliding window pattern matching string\n",
        "def MatchPattern(text,pat):\n",
        "  if len(pat)>len(text):\n",
        "    #print(\"Invalid\")\n",
        "    return -1\n",
        "  for i in range(len(text)-len(pat)+1):\n",
        "    #print(text[i:i+len(pat)],pat)\n",
        "    if text[i:i+len(pat)]==pat:\n",
        "      return i\n",
        "  return -1\n",
        "print(MatchPattern(\"lenkavasudeva\",\"deva\"))"
      ]
    },
    {
      "cell_type": "code",
      "execution_count": null,
      "metadata": {
        "colab": {
          "base_uri": "https://localhost:8080/"
        },
        "id": "DFhTb4G3W4CW",
        "outputId": "aeca8129-6fe4-4006-d334-7f0fc24e2132"
      },
      "outputs": [
        {
          "name": "stdout",
          "output_type": "stream",
          "text": [
            "27\n"
          ]
        }
      ],
      "source": [
        "#sliding window maxsum subarray\n",
        "def MaxSubArray(arr,k):\n",
        "  max_sum=0\n",
        "  window_sum=sum(arr[:k])\n",
        "  for i in range(len(arr)-k):\n",
        "    window_sum+=(arr[i+k]-arr[i])\n",
        "    if window_sum>max_sum:\n",
        "      max_sum=window_sum\n",
        "  return max_sum\n",
        "print(MaxSubArray([2,6,4,7,8,9,2,4,6,9,9,9],3))\n",
        "\n"
      ]
    },
    {
      "cell_type": "code",
      "source": [
        "print(sum([1,2,3])) #sum.max,min"
      ],
      "metadata": {
        "colab": {
          "base_uri": "https://localhost:8080/"
        },
        "id": "S9K8Vp_ODQvU",
        "outputId": "b0df17b1-ea00-4c96-efdb-d688ab0ed305"
      },
      "execution_count": null,
      "outputs": [
        {
          "output_type": "stream",
          "name": "stdout",
          "text": [
            "6\n"
          ]
        }
      ]
    },
    {
      "cell_type": "code",
      "execution_count": null,
      "metadata": {
        "colab": {
          "base_uri": "https://localhost:8080/"
        },
        "id": "JnL9xxSHY6gT",
        "outputId": "8ae7862b-4b23-4829-b992-f1537433d2e5"
      },
      "outputs": [
        {
          "name": "stdout",
          "output_type": "stream",
          "text": [
            "(0, 3)\n"
          ]
        }
      ],
      "source": [
        "#Two pointer Algorithm for sorted array\n",
        "def TwoPointer(arr,target):\n",
        "  i,j=0,len(arr)-1\n",
        "  while i<j:\n",
        "    if arr[i]+arr[j]==target:\n",
        "      return (i,j)\n",
        "    elif arr[i]+arr[j]<target:\n",
        "      i+=1\n",
        "    else:\n",
        "      j-=1\n",
        "  return -1\n",
        "print(TwoPointer([1,2,3,4,5,7],5))"
      ]
    },
    {
      "cell_type": "code",
      "execution_count": null,
      "metadata": {
        "colab": {
          "base_uri": "https://localhost:8080/"
        },
        "id": "3VRzObu0Z_7l",
        "outputId": "6b755f8c-4eaa-4db6-e9cb-fb8abbcd45ab"
      },
      "outputs": [
        {
          "name": "stdout",
          "output_type": "stream",
          "text": [
            "26\n"
          ]
        }
      ],
      "source": [
        "#Maximum sublist\n",
        "def MaxSumSublist(arr):\n",
        "  max_sum,cur_sum=0,0\n",
        "  for i in range(len(arr)):\n",
        "    cur_sum+=arr[i]\n",
        "    if max_sum<cur_sum:\n",
        "      max_sum=cur_sum\n",
        "    if cur_sum<0:\n",
        "      cur_sum=0\n",
        "  return max_sum\n",
        "print(MaxSumSublist([2,3,-10,4,6,-2,9,9]))\n",
        "\n"
      ]
    },
    {
      "cell_type": "code",
      "execution_count": null,
      "metadata": {
        "colab": {
          "base_uri": "https://localhost:8080/"
        },
        "id": "PYhZnvupa-KB",
        "outputId": "ce4b6096-e848-4e7f-e725-619fe9e727b6"
      },
      "outputs": [
        {
          "name": "stdout",
          "output_type": "stream",
          "text": [
            "\n",
            "c\n",
            "b\n",
            "bc\n",
            "a\n",
            "ac\n",
            "ab\n",
            "abc\n"
          ]
        }
      ],
      "source": [
        "#Generating subsets i.e., powerset\n",
        "def PowerSet(text,index=0,curr=''):\n",
        "  #curr=''\n",
        "  #index=0\n",
        "  if index==len(text):\n",
        "    print(curr)\n",
        "    return\n",
        "  PowerSet(text,index+1,curr)\n",
        "  PowerSet(text,index+1,curr+text[index])\n",
        "PowerSet(\"abc\")\n"
      ]
    },
    {
      "cell_type": "code",
      "execution_count": null,
      "metadata": {
        "colab": {
          "base_uri": "https://localhost:8080/"
        },
        "id": "lhzsJH78c21U",
        "outputId": "a8345fac-102d-4c01-9f4f-dc2fa3a6d85b"
      },
      "outputs": [
        {
          "name": "stdout",
          "output_type": "stream",
          "text": [
            "['a', 'b', 'c', 'd']\n",
            "['a', 'b', 'd', 'c']\n",
            "['a', 'c', 'b', 'd']\n",
            "['a', 'c', 'd', 'b']\n",
            "['a', 'd', 'c', 'b']\n",
            "['a', 'd', 'b', 'c']\n",
            "['b', 'a', 'c', 'd']\n",
            "['b', 'a', 'd', 'c']\n",
            "['b', 'c', 'a', 'd']\n",
            "['b', 'c', 'd', 'a']\n",
            "['b', 'd', 'c', 'a']\n",
            "['b', 'd', 'a', 'c']\n",
            "['c', 'b', 'a', 'd']\n",
            "['c', 'b', 'd', 'a']\n",
            "['c', 'a', 'b', 'd']\n",
            "['c', 'a', 'd', 'b']\n",
            "['c', 'd', 'a', 'b']\n",
            "['c', 'd', 'b', 'a']\n",
            "['d', 'b', 'c', 'a']\n",
            "['d', 'b', 'a', 'c']\n",
            "['d', 'c', 'b', 'a']\n",
            "['d', 'c', 'a', 'b']\n",
            "['d', 'a', 'c', 'b']\n",
            "['d', 'a', 'b', 'c']\n"
          ]
        }
      ],
      "source": [
        "#Permuations     Check\n",
        "def permute(l,index,length):\n",
        "  if index==length:\n",
        "    print(l)\n",
        "  else:\n",
        "    for i in range(index,length):\n",
        "      l[index],l[i]=l[i],l[index]\n",
        "      permute(l,index+1,length)\n",
        "      l[index],l[i]=l[i],l[index]\n",
        "permute([\"a\",\"b\",\"c\",\"d\"],0,4)\n",
        "\n"
      ]
    },
    {
      "cell_type": "code",
      "execution_count": null,
      "metadata": {
        "colab": {
          "base_uri": "https://localhost:8080/"
        },
        "id": "tHrAv77AM2mF",
        "outputId": "6785d913-b201-4144-d1b4-974a7153fa02"
      },
      "outputs": [
        {
          "output_type": "stream",
          "name": "stdout",
          "text": [
            "\n",
            "1\n",
            "2\n",
            "12\n",
            "3\n",
            "13\n",
            "23\n",
            "123\n"
          ]
        }
      ],
      "source": [
        "#powerset using bit logic\n",
        "import math\n",
        "def power_bit(n):\n",
        "  counter=2**len(n)    #2**len(n)\n",
        "  #base=int(math.log(n,2))\n",
        "  #print(base)\n",
        "  for i in range(counter):\n",
        "    for j in range(len(n)):\n",
        "      if i&(1<<j)>0:\n",
        "       # print(j,end=\" \")\n",
        "        print(n[j],end='')\n",
        "    print(\"\")\n",
        "power_bit([1,2,3])  #[1,2,3]"
      ]
    },
    {
      "cell_type": "code",
      "execution_count": null,
      "metadata": {
        "colab": {
          "base_uri": "https://localhost:8080/"
        },
        "id": "b6FQJqIpeS10",
        "outputId": "4c896ad8-c9ae-4977-fdbf-cd48532378c2"
      },
      "outputs": [
        {
          "name": "stdout",
          "output_type": "stream",
          "text": [
            "True\n"
          ]
        }
      ],
      "source": [
        "#Reverse a string\n",
        "def IsPallindrome(text):\n",
        "  return text==text[::-1]\n",
        "print(IsPallindrome(\"wow\"))"
      ]
    },
    {
      "cell_type": "code",
      "execution_count": null,
      "metadata": {
        "colab": {
          "base_uri": "https://localhost:8080/"
        },
        "id": "yThdFuEJgq2S",
        "outputId": "02518915-c243-450e-ef0b-0ae02ec596c0"
      },
      "outputs": [
        {
          "name": "stdout",
          "output_type": "stream",
          "text": [
            "1----->2----->3----->4----->5----->\n",
            "5\n",
            "10----->1----->2----->4----->3----->4----->5----->11----->\n",
            "10----->1----->4----->3----->4----->5----->11----->\n",
            "11----->5----->4----->3----->4----->1----->10----->\n",
            "7\n"
          ]
        }
      ],
      "source": [
        "#Linkedlists\n",
        "class Node:\n",
        "  def __init__(self,data):\n",
        "    self.data=data\n",
        "    self.next=None\n",
        "class LinkedList:\n",
        "  def __init__(self):\n",
        "    self.head=None\n",
        "  def traverse(self):\n",
        "    res=\"\"\n",
        "    itr=self.head\n",
        "    while itr:\n",
        "      res+=str(itr.data)+\"----->\"\n",
        "      itr=itr.next\n",
        "    print(res)\n",
        "  def length(self):\n",
        "    count=0\n",
        "    itr=self.head\n",
        "    while itr:\n",
        "      count+=1\n",
        "      itr=itr.next\n",
        "    return count\n",
        "  def fromlist(self,l):\n",
        "    self.head=Node(l[0])\n",
        "    itr=self.head\n",
        "    for i in range(1,len(l)):\n",
        "      #itr=itr.next\n",
        "      itr.next=Node(l[i])\n",
        "      itr=itr.next\n",
        "  def insert_beg(self,val):\n",
        "    newNode=Node(val)\n",
        "    newNode.next=self.head\n",
        "    self.head=newNode\n",
        "\n",
        "  def insert(self,pos,val):\n",
        "    newNode=Node(val)\n",
        "    if pos>self.length():\n",
        "      print(\"Invalid\")\n",
        "      return\n",
        "    count=0\n",
        "    itr=self.head\n",
        "    while itr:\n",
        "      count+=1\n",
        "      if count==pos-1:\n",
        "        newNode.next=itr.next\n",
        "        itr.next=newNode\n",
        "        break\n",
        "      itr=itr.next\n",
        "\n",
        "  def insert_end(self,val):\n",
        "    new=Node(val)\n",
        "    itr=self.head\n",
        "    while itr.next:\n",
        "      itr=itr.next\n",
        "    itr.next=new\n",
        "  def delete(self,pos):\n",
        "    count=0\n",
        "    itr=self.head\n",
        "    while itr.next:\n",
        "      count+=1\n",
        "      if count==pos-1:\n",
        "        itr.next=itr.next.next\n",
        "        break\n",
        "      itr=itr.next\n",
        "  def reverse(self):\n",
        "    prev=None\n",
        "    cur=self.head\n",
        "    while cur is not None:\n",
        "      next=cur.next\n",
        "      cur.next=prev\n",
        "      prev=cur\n",
        "      cur=next\n",
        "    self.head=prev\n",
        "\n",
        "ll=LinkedList()\n",
        "ll.fromlist([1,2,3,4,5])\n",
        "ll.traverse()\n",
        "print(ll.length())\n",
        "ll.insert(3,4)\n",
        "ll.insert_beg(10)\n",
        "ll.insert_end(11)\n",
        "\n",
        "ll.traverse()\n",
        "ll.delete(3)\n",
        "ll.traverse()\n",
        "ll.reverse()\n",
        "ll.traverse()\n",
        "print(ll.length())\n",
        "#new.next=pointer.next\n",
        "#pointer.next=new\n"
      ]
    },
    {
      "cell_type": "code",
      "execution_count": null,
      "metadata": {
        "id": "_j4KuKmzqJfJ"
      },
      "outputs": [],
      "source": [
        "#Detect loop in linkedlist\n",
        "def detect_loopLL(head):\n",
        "  itr=head\n",
        "  visited=set()\n",
        "  while(itr):\n",
        "    if itr in visited:\n",
        "      return True\n",
        "    visited.add(itr)\n",
        "    itr=itr.next\n",
        "  return False\n"
      ]
    },
    {
      "cell_type": "code",
      "source": [
        "#double pointers fast and slow pointer to get mid element of linked list"
      ],
      "metadata": {
        "id": "pEYBkr1n9El3"
      },
      "execution_count": null,
      "outputs": []
    },
    {
      "cell_type": "code",
      "execution_count": null,
      "metadata": {
        "colab": {
          "base_uri": "https://localhost:8080/"
        },
        "id": "O1wzzzyUqvcU",
        "outputId": "01986189-b13b-4258-c35b-888a1b09e80f"
      },
      "outputs": [
        {
          "name": "stdout",
          "output_type": "stream",
          "text": [
            "121147\n",
            "[12, 1, 14, 7]\n",
            "14\n",
            "12\n",
            "7\n",
            "1\n"
          ]
        }
      ],
      "source": [
        "class PriorityQueue:\n",
        "  def __init__(self):\n",
        "    self.queue=[]\n",
        "  def __str__(self):\n",
        "    return \"\".join([str(i) for i in self.queue])\n",
        "  def p(self):\n",
        "    #print(self.queue)\n",
        "    return self.queue\n",
        "  def isEmpty(self):\n",
        "    return len(self.queue)==0\n",
        "  def insert(self,data):\n",
        "    self.queue.append(data)\n",
        "  def pop(self):\n",
        "    max_ind=0\n",
        "    for i in range(len(self.queue)):\n",
        "      if self.queue[i]>self.queue[max_ind]:\n",
        "        max_ind=i\n",
        "    val=self.queue[max_ind]\n",
        "    self.queue.pop(max_ind)   # or del self.queue[max_ind]\n",
        "    return val\n",
        "if __name__=='__main__':\n",
        "    myQueue = PriorityQueue()\n",
        "    myQueue.insert(12)\n",
        "    myQueue.insert(1)\n",
        "    myQueue.insert(14)\n",
        "    myQueue.insert(7)\n",
        "    print(myQueue)\n",
        "    print(myQueue.p())\n",
        "    while not myQueue.isEmpty():\n",
        "        print(myQueue.pop())"
      ]
    },
    {
      "cell_type": "code",
      "execution_count": null,
      "metadata": {
        "colab": {
          "base_uri": "https://localhost:8080/"
        },
        "id": "BjMYrSVgunh9",
        "outputId": "687844be-53fd-4d47-9954-0fcf6215a4a3"
      },
      "outputs": [
        {
          "name": "stdout",
          "output_type": "stream",
          "text": [
            "The minHeap is \n",
            " PARENT : 0 LEFT CHILD : 3 RIGHT CHILD : 6\n",
            " PARENT : 3 LEFT CHILD : 5 RIGHT CHILD : 84\n",
            " PARENT : 6 LEFT CHILD : 19 RIGHT CHILD : 17\n",
            " PARENT : 5 LEFT CHILD : 22 RIGHT CHILD : 9\n",
            "The Min val is 0\n"
          ]
        }
      ],
      "source": [
        "#Heaps Min heap\n",
        "import sys\n",
        "class MinHeap:\n",
        "  def __init__(self,max_size):\n",
        "    self.max_size=max_size\n",
        "    self.size=0\n",
        "    self.heap=[0]*(self.max_size+1)\n",
        "    self.heap[0]=-1*sys.maxsize\n",
        "    self.front=1\n",
        "\n",
        "  def parent(self,pos):\n",
        "    return (pos-1)//2\n",
        "  def leftchild(self,pos):\n",
        "    return 2*pos+1\n",
        "  def rightchild(self,pos):\n",
        "    return 2*pos+2\n",
        "  def isLeaf(self,pos):\n",
        "    return 2*pos+1>self.size\n",
        "  def swap(self,fpos,spos):\n",
        "    self.heap[fpos],self.heap[spos]=self.heap[spos],self.heap[fpos]\n",
        "  def minHeapify(self,pos):\n",
        "    if not self.isLeaf(pos):\n",
        "      if (self.heap[pos]>self.heap[self.leftchild(pos)] or self.heap[pos]>self.heap[self.rightchild(pos)]):\n",
        "        if self.heap[self.leftchild(pos)]<self.heap[self.rightchild(pos)]:\n",
        "          self.swap(pos,self.leftchild(pos))\n",
        "          self.minHeapify(self.leftchild(pos))\n",
        "        else:\n",
        "          self.swap(pos,self.rightchild(pos))\n",
        "          self.minHeapify(self.rightchild(pos))\n",
        "  def insert(self,element):\n",
        "    if self.size>=self.max_size:\n",
        "      return\n",
        "    self.size+=1\n",
        "    self.heap[self.size]=element\n",
        "    current=self.size\n",
        "    while self.heap[current]<self.heap[self.size]:\n",
        "      self.swap(self.heap[current],self.heap[self.size])\n",
        "      current=self.parent(current)\n",
        "  def remove(self):\n",
        "    if self.size>0:\n",
        "      val=self.heap[self.front]\n",
        "      self.heap[self.front]=self.heap[self.size]\n",
        "      self.size-=1\n",
        "      self.minHeapify(self.front)\n",
        "      return val\n",
        "  def minHeap(self):\n",
        "        for pos in range(self.size//2, 0, -1):\n",
        "            self.minHeapify(pos)\n",
        "  def Print(self):\n",
        "      for i in range(1, (self.size//2)+1):\n",
        "          print(\" PARENT : \"+ str(self.heap[i])+\" LEFT CHILD : \"+\n",
        "                              str(self.heap[2 * i])+\" RIGHT CHILD : \"+\n",
        "                              str(self.heap[2 * i + 1]))\n",
        "if __name__ == \"__main__\":\n",
        "\n",
        "    print('The minHeap is ')\n",
        "    minHeap = MinHeap(15)\n",
        "    minHeap.insert(5)\n",
        "    minHeap.insert(3)\n",
        "    minHeap.insert(17)\n",
        "    minHeap.insert(10)\n",
        "    minHeap.insert(84)\n",
        "    minHeap.insert(19)\n",
        "    minHeap.insert(6)\n",
        "    minHeap.insert(22)\n",
        "    minHeap.insert(9)\n",
        "    minHeap.minHeap()\n",
        "\n",
        "    minHeap.Print()\n",
        "    print(\"The Min val is \" + str(minHeap.remove()))\n"
      ]
    },
    {
      "cell_type": "code",
      "execution_count": null,
      "metadata": {
        "colab": {
          "base_uri": "https://localhost:8080/"
        },
        "id": "wF_ZIh4Uztay",
        "outputId": "7681c6e7-f320-454a-a70d-db8fe9b054a0"
      },
      "outputs": [
        {
          "name": "stdout",
          "output_type": "stream",
          "text": [
            "0 0\n"
          ]
        }
      ],
      "source": [
        "class BSTNode:\n",
        "  def __init__(self,key):\n",
        "    self.key=key\n",
        "    self.left=None\n",
        "    self.right=None\n",
        "    self.parent=None\n",
        "class BST:\n",
        "  def __init__(self,node=None):\n",
        "    self.node=node\n",
        "  def level_order(self):\n",
        "    pass\n",
        "  def print_level(self,level):\n",
        "    if self.node is None:\n",
        "      return\n",
        "    if level==1:\n",
        "      print(self.node.data,end='')\n",
        "    elif level>1:\n",
        "      self.print_level(self.node.left,level-1)\n",
        "      self.print_level(self.node.right,level-1)\n",
        "\n",
        "  def in_order_trav(self):\n",
        "    if self.node is None:\n",
        "      return []\n",
        "    return self.in_order_trav(self.node.left)+[self.node.key]+self.in_order_trav(self.node.right)\n",
        "  def parse_tuple(self,data):\n",
        "    print(data)\n",
        "    if isinstance(data,tuple) and len(data)==3:\n",
        "      self.node=BSTNode(data[1])\n",
        "      self.node.left=self.parse_tuple(data[0])\n",
        "      self.node.right=self.parse_tuple(data[2])\n",
        "    elif data is None:\n",
        "      self.node=None\n",
        "    else:\n",
        "      self.node=BSTNode(data)\n",
        "    return self.node\n",
        "  def list_all(self):\n",
        "    if self is None:\n",
        "      return []\n",
        "    return self.list_all(self.left)+[self.key]+self.list_all(self.right)\n",
        "  def search(self,val):\n",
        "    if self.node is None:\n",
        "      return None\n",
        "    if val==self.node.key:\n",
        "      return True\n",
        "    if val<self.node.key:\n",
        "      self.search(self.node.left)\n",
        "    if val>self.node.key:\n",
        "      self.search(self.node.right)\n",
        "  def insert(self,val):\n",
        "    if self.node is None:\n",
        "      self.node=BSTNode(val)\n",
        "    elif val<self.node.key:\n",
        "      self.insert(self.node.left,val)\n",
        "      self.node.left.parent=self.node\n",
        "    else:\n",
        "      self.insert(self.node.right,val)\n",
        "      self.node.right=self.node\n",
        "    return self.node\n",
        "  def update(self,key,val):\n",
        "    node=self.find(self.node,key)\n",
        "    if node is not None:\n",
        "      node.key=val\n",
        "  def is_bal(self):\n",
        "    if self.node is None:\n",
        "      return True,0\n",
        "    is_bal_l,height_l=self.is_bal(self.node.left)\n",
        "    is_bal_r,height_r=self.is_bal(self.node.right)\n",
        "    bal=(is_bal_l and is_bal_r) and abs(height_l-height_r)<=1\n",
        "    height=1+max(height_l,height_r)\n",
        "    return bal,height\n",
        "  @staticmethod\n",
        "  def remove_none(l):\n",
        "    return [i for i in l if i is not None]\n",
        "\n",
        "  def is_bst(self):\n",
        "    if self.node is None:\n",
        "      return True,0,0\n",
        "    is_bst_l,min_l,max_l=self.is_bst(self.node.left)\n",
        "    is_bst_r,min_r,max_r=self.is_bst(self.node.right)\n",
        "    bal=(is_bst_l and is_bst_r) and (max_l is None or max_l<self.node.key) and (min_r is None or min_r >self.node.key)\n",
        "    min_val=min(self.remove_none([min_l,self.node.key,min_r]))\n",
        "    max_val=max(self.remove_none([max_l,self.node.key,max_r]))\n",
        "    return bal,min_val,max_val\n",
        "  @staticmethod\n",
        "  def make_bal_bst(self,l,low=0,high=None,parent=None):\n",
        "    if high is None:\n",
        "      high=len(l)-1\n",
        "    if low>high:\n",
        "      return None\n",
        "    mid=(low+high)//2\n",
        "    node=BSTNode(l[mid])\n",
        "    node.parent=parent\n",
        "    node.left=self.make_bal_bst(self,l,low,mid-1,node)\n",
        "    node.right=self.make_bal_bst(self,l,mid+1,high,node)\n",
        "    return node\n",
        "  def height(self):\n",
        "    if self.node is None:\n",
        "      return 0\n",
        "    return 1+max(self.height(self.node.left),self.height(self.node.right))\n",
        "  def size(self):\n",
        "    if self.node is None:\n",
        "      return 0\n",
        "    return 1+self.size(self.node.let)+self.size(self.node.right)\n",
        "\n",
        "  def bal_bst(self):\n",
        "    return self.make_bal_bst(self.list_all(self.node))\n",
        "  def print_left(self):\n",
        "    if self.node.left is None:\n",
        "      print(self.node)\n",
        "    return self.print_left(self.node.left)\n",
        "\n",
        "\n",
        "\n",
        "\n",
        "\n",
        "\n",
        "b=BST()\n",
        "#b.parse_tuple(tuple([(1,3,None),2,((None,3,4),5,(6,7,8))]))\n",
        "b.make_bal_bst(b,[1,2,3,4,5,6,7,8])\n",
        "print(b.height(),b.size())\n",
        "\n"
      ]
    },
    {
      "cell_type": "code",
      "execution_count": null,
      "metadata": {
        "colab": {
          "base_uri": "https://localhost:8080/",
          "height": 367
        },
        "id": "mR5mK-AWpnLk",
        "outputId": "254b7972-0da7-4e45-cc8e-a701b5615caf"
      },
      "outputs": [
        {
          "output_type": "error",
          "ename": "TypeError",
          "evalue": "ignored",
          "traceback": [
            "\u001b[0;31m---------------------------------------------------------------------------\u001b[0m",
            "\u001b[0;31mTypeError\u001b[0m                                 Traceback (most recent call last)",
            "\u001b[0;32m<ipython-input-6-fcc536579d6b>\u001b[0m in \u001b[0;36m<cell line: 91>\u001b[0;34m()\u001b[0m\n\u001b[1;32m     89\u001b[0m \u001b[0mbt\u001b[0m\u001b[0;34m=\u001b[0m\u001b[0mBST\u001b[0m\u001b[0;34m(\u001b[0m\u001b[0;34m)\u001b[0m\u001b[0;34m\u001b[0m\u001b[0;34m\u001b[0m\u001b[0m\n\u001b[1;32m     90\u001b[0m \u001b[0mbt\u001b[0m\u001b[0;34m.\u001b[0m\u001b[0mfrom_list\u001b[0m\u001b[0;34m(\u001b[0m\u001b[0;34m[\u001b[0m\u001b[0;36m1\u001b[0m\u001b[0;34m,\u001b[0m\u001b[0;36m2\u001b[0m\u001b[0;34m,\u001b[0m\u001b[0;36m3\u001b[0m\u001b[0;34m,\u001b[0m\u001b[0;36m4\u001b[0m\u001b[0;34m,\u001b[0m\u001b[0;36m5\u001b[0m\u001b[0;34m,\u001b[0m\u001b[0;36m6\u001b[0m\u001b[0;34m,\u001b[0m\u001b[0;36m7\u001b[0m\u001b[0;34m,\u001b[0m\u001b[0;36m8\u001b[0m\u001b[0;34m,\u001b[0m\u001b[0;36m9\u001b[0m\u001b[0;34m]\u001b[0m\u001b[0;34m)\u001b[0m\u001b[0;34m\u001b[0m\u001b[0;34m\u001b[0m\u001b[0m\n\u001b[0;32m---> 91\u001b[0;31m \u001b[0mbt\u001b[0m\u001b[0;34m.\u001b[0m\u001b[0mdisplay\u001b[0m\u001b[0;34m(\u001b[0m\u001b[0;34m)\u001b[0m\u001b[0;34m\u001b[0m\u001b[0;34m\u001b[0m\u001b[0m\n\u001b[0m\u001b[1;32m     92\u001b[0m \u001b[0;34m\u001b[0m\u001b[0m\n\u001b[1;32m     93\u001b[0m \u001b[0;34m\u001b[0m\u001b[0m\n",
            "\u001b[0;32m<ipython-input-6-fcc536579d6b>\u001b[0m in \u001b[0;36mdisplay\u001b[0;34m(self, space, level)\u001b[0m\n\u001b[1;32m     76\u001b[0m       \u001b[0mprint\u001b[0m\u001b[0;34m(\u001b[0m\u001b[0mspace\u001b[0m\u001b[0;34m*\u001b[0m\u001b[0mlevel\u001b[0m\u001b[0;34m+\u001b[0m\u001b[0mstr\u001b[0m\u001b[0;34m(\u001b[0m\u001b[0mself\u001b[0m\u001b[0;34m.\u001b[0m\u001b[0mnode\u001b[0m\u001b[0;34m.\u001b[0m\u001b[0mkey\u001b[0m\u001b[0;34m)\u001b[0m\u001b[0;34m)\u001b[0m\u001b[0;34m\u001b[0m\u001b[0;34m\u001b[0m\u001b[0m\n\u001b[1;32m     77\u001b[0m       \u001b[0;32mreturn\u001b[0m\u001b[0;34m\u001b[0m\u001b[0;34m\u001b[0m\u001b[0m\n\u001b[0;32m---> 78\u001b[0;31m     \u001b[0mself\u001b[0m\u001b[0;34m.\u001b[0m\u001b[0mdisplay\u001b[0m\u001b[0;34m(\u001b[0m\u001b[0mself\u001b[0m\u001b[0;34m.\u001b[0m\u001b[0mnode\u001b[0m\u001b[0;34m.\u001b[0m\u001b[0mleft\u001b[0m\u001b[0;34m,\u001b[0m\u001b[0mspace\u001b[0m\u001b[0;34m,\u001b[0m\u001b[0mlevel\u001b[0m\u001b[0;34m+\u001b[0m\u001b[0;36m1\u001b[0m\u001b[0;34m)\u001b[0m\u001b[0;34m\u001b[0m\u001b[0;34m\u001b[0m\u001b[0m\n\u001b[0m\u001b[1;32m     79\u001b[0m     \u001b[0mprint\u001b[0m\u001b[0;34m(\u001b[0m\u001b[0mspace\u001b[0m\u001b[0;34m*\u001b[0m\u001b[0mlevel\u001b[0m\u001b[0;34m+\u001b[0m\u001b[0mstr\u001b[0m\u001b[0;34m(\u001b[0m\u001b[0mnode\u001b[0m\u001b[0;34m.\u001b[0m\u001b[0mkey\u001b[0m\u001b[0;34m)\u001b[0m\u001b[0;34m)\u001b[0m\u001b[0;34m\u001b[0m\u001b[0;34m\u001b[0m\u001b[0m\n\u001b[1;32m     80\u001b[0m     \u001b[0mself\u001b[0m\u001b[0;34m.\u001b[0m\u001b[0mdisplay\u001b[0m\u001b[0;34m(\u001b[0m\u001b[0mself\u001b[0m\u001b[0;34m.\u001b[0m\u001b[0mnode\u001b[0m\u001b[0;34m.\u001b[0m\u001b[0mright\u001b[0m\u001b[0;34m,\u001b[0m\u001b[0mspace\u001b[0m\u001b[0;34m,\u001b[0m\u001b[0mlevel\u001b[0m\u001b[0;34m+\u001b[0m\u001b[0;36m1\u001b[0m\u001b[0;34m)\u001b[0m\u001b[0;34m\u001b[0m\u001b[0;34m\u001b[0m\u001b[0m\n",
            "\u001b[0;31mTypeError\u001b[0m: BST.display() takes from 1 to 3 positional arguments but 4 were given"
          ]
        }
      ],
      "source": [
        "class BSTNode:\n",
        "  def __init__(self,key):\n",
        "    self.key=key\n",
        "    self.left=None\n",
        "    self.right=None\n",
        "    self.parent=None\n",
        "class BST:\n",
        "  def __init__(self,node=None):\n",
        "    self.node=node\n",
        "  def parse_tuple(self,data):\n",
        "    if isinstance(data,tuple) and len(data)==3:\n",
        "      self.node.key=data[1]\n",
        "      self.node.left=data[0]\n",
        "      self.node.right=data[2]\n",
        "    elif self.node.data is None:\n",
        "      self.node=None\n",
        "    else:\n",
        "      self.node=BSTNode(data)\n",
        "  def from_list(self,data):\n",
        "    if len(data)==0:\n",
        "      return\n",
        "    mid=len(data)//2\n",
        "    self.node=BSTNode(data[mid])\n",
        "    self.node.left=self.from_list(data[:mid])\n",
        "    self.node.right=self.from_list(data[mid+1:])\n",
        "    return self.node\n",
        "  def height(self):\n",
        "    if self.node is None:\n",
        "      return 0\n",
        "    return 1+max(self.height(self.node.left),self.height(self.node.right))\n",
        "  def size(self):\n",
        "    if self.node is None:\n",
        "      return 0\n",
        "    return 1+self.size(self.node.left)+self.size(self.node.right)\n",
        "  def list_all(self):\n",
        "    if self.node is None:\n",
        "      return []\n",
        "    return [self.list_all(self.node.left)]+[self.node.key]+[self.list_all(self.node.right)]\n",
        "  def level(self,level,l=[]):\n",
        "\n",
        "    if self.node is None:\n",
        "      return\n",
        "    if level==0:\n",
        "      print(self.node.key,end=\"\")\n",
        "      l.append(self.node.key)\n",
        "      return\n",
        "    elif level>0:\n",
        "      self.level(self.node.left,level-1)\n",
        "      self.level(self.node.right,level-1)\n",
        "    return len(l)\n",
        "  def diameter(self):\n",
        "    height=self.height(self.node)\n",
        "    max=0\n",
        "    for i in range(height):\n",
        "      if self.level(self.node)>max:\n",
        "        max=self.level(self.node)\n",
        "    return max\n",
        "  @staticmethod\n",
        "  def return_none(l):\n",
        "    return [x for x in l if x is not None]\n",
        "\n",
        "  def is_bst(self):\n",
        "    if self.node is None:\n",
        "      return True,0,0\n",
        "    is_bst_l,min_l,max_l=self.is_bst(self.node.left)\n",
        "    is_bst_r,min_r,max_r=self.is_bst(self.node.right)\n",
        "    bst=is_bst_l and is_bst_r and (max_l is None or max_l<self.node.key) and (min_r is None or min_r>self.node.key)\n",
        "    min_key=min(self.return_none([min_l,self.node.key,min_r]))\n",
        "    max_key=max(self.return_none([max_l,self.node.key,max_r]))\n",
        "    return bst,min_key,max_key\n",
        "  def display(self,space=\" \",level=0):\n",
        "    if self.node is None:\n",
        "      print(space*level+\"\")\n",
        "      return\n",
        "    if self.node.left is None and self.node.right is None:\n",
        "      print(space*level+str(self.node.key))\n",
        "      return\n",
        "    self.display(self.node.left,space,level+1)\n",
        "    print(space*level+str(node.key))\n",
        "    self.display(self.node.right,space,level+1)\n",
        "  def is_bal(self):\n",
        "    if self.node is None:\n",
        "      return True,0\n",
        "    is_bal_l,height_l=self.is_bal(self.node.left)\n",
        "    is_bal_r,height_r=self.is_bal(self.node.right)\n",
        "    bal=is_bal_l and is_bal_r and abs(height_l-height_r)<=1\n",
        "    height=1+max(height_l,height_r)\n",
        "    return bal,height\n",
        "bt=BST()\n",
        "bt.from_list([1,2,3,4,5,6,7,8,9])\n",
        "bt.display()\n",
        "\n",
        "\n",
        "\n",
        "\n",
        "\n",
        "\n"
      ]
    },
    {
      "cell_type": "code",
      "execution_count": null,
      "metadata": {
        "colab": {
          "base_uri": "https://localhost:8080/"
        },
        "id": "pCbGO68uNEOF",
        "outputId": "de8fb9cd-7d9d-4964-cfdb-72a5954629b9"
      },
      "outputs": [
        {
          "name": "stdout",
          "output_type": "stream",
          "text": [
            "8\n",
            "            8\n",
            "        7\n",
            "            \n",
            "    6\n",
            "        5\n",
            "4\n",
            "        3\n",
            "    2\n",
            "        1\n"
          ]
        }
      ],
      "source": [
        "def size(node):\n",
        "    if node is None:\n",
        "      return 0\n",
        "    return 1+size(node.left)+size(node.right)\n",
        "\n",
        "def make_bal_bst(l,low=0,high=None,parent=None):\n",
        "    if high is None:\n",
        "      high=len(l)-1\n",
        "    if low>high:\n",
        "      return None\n",
        "    mid=(low+high)//2\n",
        "    node=BSTNode(l[mid])\n",
        "    node.parent=parent\n",
        "    node.left=make_bal_bst(l,low,mid-1,node)\n",
        "    node.right=make_bal_bst(l,mid+1,high,node)\n",
        "    return node\n",
        "def display_keys(node,space='    ',level=0):\n",
        "  if node is None:\n",
        "    print(space*level+\"\")\n",
        "    return\n",
        "  if node.left is None and node.right is None:\n",
        "    print(space*level+str(node.key))\n",
        "    return\n",
        "  display_keys(node.right,space,level+1)\n",
        "  print(space*level+str(node.key))\n",
        "  display_keys(node.left,space,level+1)\n",
        "node=make_bal_bst([1,2,3,4,5,6,7,8])\n",
        "print(size(node))\n",
        "display_keys(node)"
      ]
    },
    {
      "cell_type": "code",
      "execution_count": null,
      "metadata": {
        "colab": {
          "base_uri": "https://localhost:8080/"
        },
        "id": "rKu2pbNwQzJD",
        "outputId": "e37da5d8-d77b-40c1-f062-dfcdc3cc30d6"
      },
      "outputs": [
        {
          "name": "stdout",
          "output_type": "stream",
          "text": [
            "a c b e d ____\n",
            "a c b d e ____\n"
          ]
        },
        {
          "data": {
            "text/plain": [
              "['a', 'c', 'd', 'b', 'e']"
            ]
          },
          "execution_count": 6,
          "metadata": {},
          "output_type": "execute_result"
        }
      ],
      "source": [
        "#Graphs\n",
        "graph = { \"a\" : [\"c\"],\n",
        "          \"b\" : [\"c\", \"e\"],\n",
        "          \"c\" : [\"a\", \"b\", \"d\", \"e\"],\n",
        "          \"d\" : [\"c\"],\n",
        "          \"e\" : [\"c\", \"b\"],\n",
        "          \"f\" : []\n",
        "        }\n",
        "def DFS(node,graph,visited=set()):\n",
        "  if node not in graph:\n",
        "    print(\"Node not present\")\n",
        "    return\n",
        "  if node not in visited:\n",
        "    print(node,end=\" \")\n",
        "    visited.add(node)\n",
        "    for i in graph[node]:\n",
        "      DFS(i,graph,visited)\n",
        "def BFS(node,graph):\n",
        "  queue=[]\n",
        "  visited=set()\n",
        "  queue.append(node)\n",
        "  visited.add(node)\n",
        "  while queue:\n",
        "    s=queue.pop(0)\n",
        "    print(s,end=\" \")\n",
        "    for i in graph[s]:\n",
        "      if i not in visited:\n",
        "        queue.append(i)\n",
        "        visited.add(i)\n",
        "def topological_sort(graph,node,visited={},stack=[]):\n",
        "  visited[node]=True\n",
        "  for i in graph[node]:\n",
        "    if i not in visited:\n",
        "      topological_sort(graph,i,visited,stack)\n",
        "  stack.insert(0,node)\n",
        "  return stack\n",
        "\n",
        "DFS(\"a\",graph)\n",
        "print(\"____\")\n",
        "BFS(\"a\",graph)\n",
        "print(\"____\")\n",
        "topological_sort(graph,\"a\")\n",
        "\n",
        "\n"
      ]
    },
    {
      "cell_type": "code",
      "execution_count": null,
      "metadata": {
        "colab": {
          "base_uri": "https://localhost:8080/"
        },
        "id": "TJUoQF7raLVt",
        "outputId": "f924a4e4-a41c-4510-b8de-1c74de33c334"
      },
      "outputs": [
        {
          "output_type": "stream",
          "name": "stdout",
          "text": [
            "agfcedb-----------\n",
            "acfgbde"
          ]
        }
      ],
      "source": [
        "graph1 = { \"a\" : [\"c\",\"f\",\"g\"],\n",
        "          \"b\" : [\"c\", \"e\"],\n",
        "          \"c\" : [\"a\", \"b\", \"d\", \"e\"],\n",
        "          \"d\" : [\"c\"],\n",
        "          \"e\" : [\"c\", \"b\"],\n",
        "          \"f\" : [\"a\"],\n",
        "           \"g\":[\"a\"]\n",
        "        }\n",
        "\n",
        "\n",
        "\n",
        "def BFS_S(node,graph):\n",
        "  if node not in graph:\n",
        "    return None\n",
        "  seen=set()\n",
        "  queue=[]\n",
        "  queue.append(node)\n",
        "  seen.add(node)\n",
        "  while queue:\n",
        "    s=queue.pop(0)\n",
        "    print(s,end=\"\")\n",
        "    for i in graph[s]:\n",
        "      if i not in seen:\n",
        "        queue.append(i)\n",
        "        seen.add(i)\n",
        "\n",
        "def DFS_S(node,graph):\n",
        "  if node not in graph:\n",
        "    return None\n",
        "  seen=set()\n",
        "  stack=[]\n",
        "  stack.append(node)\n",
        "  seen.add(node)\n",
        "  while stack:\n",
        "    s=stack.pop()\n",
        "    print(s,end='')\n",
        "    for i in graph[s]:\n",
        "      if i not in seen:\n",
        "        stack.append(i)\n",
        "        seen.add(i)\n",
        "DFS_S('a',graph1)\n",
        "print(\"-----------\")\n",
        "BFS_S('a',graph1)\n",
        "\n",
        "\n"
      ]
    },
    {
      "cell_type": "code",
      "execution_count": null,
      "metadata": {
        "id": "NiCKneIIgTYA"
      },
      "outputs": [],
      "source": [
        "#Multiplying adjacency matrix with itself gives path of 2 and so on"
      ]
    },
    {
      "cell_type": "code",
      "execution_count": null,
      "metadata": {
        "id": "BSRWPuM0xzwt"
      },
      "outputs": [],
      "source": [
        "[(1,3,None),2,((None,3,4),5,(6,7,8))]"
      ]
    },
    {
      "cell_type": "code",
      "execution_count": null,
      "metadata": {
        "colab": {
          "base_uri": "https://localhost:8080/"
        },
        "id": "Ve0vcqHqvA_A",
        "outputId": "b31cb938-8204-4fa9-928c-8d627f029478"
      },
      "outputs": [
        {
          "name": "stdout",
          "output_type": "stream",
          "text": [
            "usav\n"
          ]
        }
      ],
      "source": [
        "def StringRev(s):\n",
        "  return s[::-1]\n",
        "print(StringRev(\"vasu\"))"
      ]
    },
    {
      "cell_type": "code",
      "execution_count": null,
      "metadata": {
        "colab": {
          "base_uri": "https://localhost:8080/"
        },
        "id": "scQ6tQkRjPYC",
        "outputId": "48bc9976-cefc-4295-9d7c-01f7778b01d6"
      },
      "outputs": [
        {
          "name": "stdout",
          "output_type": "stream",
          "text": [
            "['abc', 'd']\n"
          ]
        }
      ],
      "source": [
        "def split(s):\n",
        "  return s.split()\n",
        "print(split(\"abc d\"))"
      ]
    },
    {
      "cell_type": "code",
      "execution_count": null,
      "metadata": {
        "colab": {
          "base_uri": "https://localhost:8080/"
        },
        "id": "n6IPgfThV7OL",
        "outputId": "89ccd3cb-4185-49d6-e244-1f6e1e3cb2f8"
      },
      "outputs": [
        {
          "name": "stdout",
          "output_type": "stream",
          "text": [
            "54821\n"
          ]
        }
      ],
      "source": [
        "def RevNum(n):\n",
        "  rev=0\n",
        "  while(n!=0):\n",
        "    rev=(rev*10)+(n%10)\n",
        "    n=n//10\n",
        "   # print(rev,n)\n",
        "  print(rev)\n",
        "RevNum(12845)"
      ]
    },
    {
      "cell_type": "code",
      "execution_count": null,
      "metadata": {
        "colab": {
          "base_uri": "https://localhost:8080/"
        },
        "id": "4x9MSZiKXfLw",
        "outputId": "f3fd3c12-c34d-44bd-cab5-dd55b5ad6a4d"
      },
      "outputs": [
        {
          "name": "stdout",
          "output_type": "stream",
          "text": [
            "2\n"
          ]
        }
      ],
      "source": [
        "#GCD\n",
        "def gcd(a,b):\n",
        "  if a==b:\n",
        "    return a\n",
        "  if a>b:\n",
        "    return gcd(a-b,b)\n",
        "  else:\n",
        "    return gcd(a,b-a)\n",
        "print(gcd(8,2))"
      ]
    },
    {
      "cell_type": "code",
      "execution_count": null,
      "metadata": {
        "colab": {
          "base_uri": "https://localhost:8080/"
        },
        "id": "9WbKeLPvb0wA",
        "outputId": "d7f38248-20bf-42e4-993c-49669a11e6d7"
      },
      "outputs": [
        {
          "output_type": "stream",
          "name": "stdout",
          "text": [
            "01000"
          ]
        }
      ],
      "source": [
        "def numtobin(num,s=''):\n",
        "  if num>=1:\n",
        "    numtobin(num//2)\n",
        "  #s+=str(num%2)\n",
        "  print(num%2,end=\"\")\n",
        "  #print(s)\n",
        "\n",
        "numtobin(8)"
      ]
    },
    {
      "cell_type": "code",
      "execution_count": null,
      "metadata": {
        "colab": {
          "base_uri": "https://localhost:8080/"
        },
        "id": "dCOwvgX-dW6G",
        "outputId": "8bc5f8cf-c733-4b11-f70a-1f01188abaf6"
      },
      "outputs": [
        {
          "output_type": "stream",
          "name": "stdout",
          "text": [
            "8\n"
          ]
        }
      ],
      "source": [
        "def bintonum(bin):\n",
        "  num=0\n",
        "  for i in range(len(bin)):\n",
        "    num+=bin[i]*(2**(len(bin)-i-1))\n",
        "  print(num)\n",
        "bintonum([1,0,0,0])\n"
      ]
    },
    {
      "cell_type": "code",
      "execution_count": null,
      "metadata": {
        "colab": {
          "base_uri": "https://localhost:8080/"
        },
        "id": "bjKUz0Q6vC5p",
        "outputId": "91369e92-337d-439b-947b-ef56cdd5696a"
      },
      "outputs": [
        {
          "name": "stdout",
          "output_type": "stream",
          "text": [
            "2 3\n"
          ]
        }
      ],
      "source": [
        "#Maximum repeat numbers\n",
        "def max_repeat(l):\n",
        "  d={}\n",
        "  for i in l:\n",
        "    if i in d:\n",
        "      d[i]+=1\n",
        "    else:\n",
        "      d[i]=1\n",
        "  max=0\n",
        "  for i in d.keys():\n",
        "    if d[i]>max:\n",
        "      max=i\n",
        "  print(max,d[max])\n",
        "max_repeat([1,2,3,4,5,2,2,3,4,5,6])"
      ]
    },
    {
      "cell_type": "code",
      "execution_count": null,
      "metadata": {
        "colab": {
          "base_uri": "https://localhost:8080/"
        },
        "id": "EKHqO23YwhpY",
        "outputId": "a7b500b6-efb8-4297-efc3-7d92ed8b3ea4"
      },
      "outputs": [
        {
          "name": "stdout",
          "output_type": "stream",
          "text": [
            "10000101\n",
            "111\n",
            "3\n"
          ]
        }
      ],
      "source": [
        "#count no of bit\n",
        "def count_bits(num):\n",
        "  bin_num=bin(num)[2:]\n",
        "  print(bin_num)\n",
        "  b=bin_num.replace(\"0\",\"\")\n",
        "  print(b)\n",
        "  print(len(b))\n",
        "count_bits(133)"
      ]
    },
    {
      "cell_type": "code",
      "execution_count": null,
      "metadata": {
        "colab": {
          "base_uri": "https://localhost:8080/"
        },
        "id": "qRBs-wuShcd7",
        "outputId": "063ffab6-f289-4ca5-8d37-2282925ddd49"
      },
      "outputs": [
        {
          "output_type": "stream",
          "name": "stdout",
          "text": [
            "0b110\n",
            "011\n",
            "3\n",
            "0b1111111000001111\n",
            "65039\n",
            "0\n",
            "1\n",
            "8\n",
            "0\n",
            "bit is 0\n"
          ]
        }
      ],
      "source": [
        "print(bin(6))\n",
        "print(bin(6)[2:][::-1])\n",
        "print(int(bin(6)[2:][::-1],2)) #2 is base\n",
        "s_bin='1111111000001111'\n",
        "print(bin(65039)) #0b1111111000001111 int to binaery in string format\n",
        "print(int(s_bin,2)) #binary to integer\n",
        "print(65039>>4&1) #to find bit    >> right shift 4 times\n",
        "print((65039>>4&1)^1)# xop with 1 toggles data\n",
        "print(2<<2) #n<<shifts to impact nth nit shift n-1 bits\n",
        "print(2>>2)\n",
        "bit=(65039>>4&1)\n",
        "print(\"bit is\",bit)"
      ]
    },
    {
      "cell_type": "code",
      "execution_count": null,
      "metadata": {
        "colab": {
          "base_uri": "https://localhost:8080/"
        },
        "id": "YUFASmq_lV86",
        "outputId": "239d02b7-90f5-46aa-a8e3-151f5bc400a5"
      },
      "outputs": [
        {
          "output_type": "stream",
          "name": "stdout",
          "text": [
            "[1, 3, 5, 7, 9]\n",
            "{0: 0, 2: 4, 4: 16, 6: 36, 8: 64}\n",
            "1\n",
            "54321\n"
          ]
        }
      ],
      "source": [
        "print([x for x in range(10) if x%2!=0])\n",
        "print({x:x**2 for x in range(10) if x%2==0})\n",
        "print(\"vasu\".find(\"a\"))\n",
        "print(int(str(12345)[::-1]))"
      ]
    },
    {
      "cell_type": "code",
      "execution_count": null,
      "metadata": {
        "colab": {
          "base_uri": "https://localhost:8080/"
        },
        "id": "Ou0Qp00ixXnu",
        "outputId": "120f02f2-fbcd-448e-c5b3-9d9baaa43421"
      },
      "outputs": [
        {
          "name": "stdout",
          "output_type": "stream",
          "text": [
            "6\n"
          ]
        }
      ],
      "source": [
        "mul=lambda x,y:x*y\n",
        "print(mul(2,3))"
      ]
    }
  ],
  "metadata": {
    "colab": {
      "provenance": []
    },
    "kernelspec": {
      "display_name": "Python 3",
      "name": "python3"
    },
    "language_info": {
      "name": "python"
    }
  },
  "nbformat": 4,
  "nbformat_minor": 0
}